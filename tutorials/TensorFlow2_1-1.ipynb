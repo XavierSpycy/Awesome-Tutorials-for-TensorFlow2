{
  "cells": [
    {
      "cell_type": "markdown",
      "metadata": {
        "id": "F7RUeWYUfC97"
      },
      "source": [
        "# Get Started with TensorFlow2"
      ]
    },
    {
      "cell_type": "markdown",
      "metadata": {
        "id": "bbPRKU9GrXLS"
      },
      "source": [
        "## Hello TensorFlow!"
      ]
    },
    {
      "cell_type": "code",
      "execution_count": null,
      "metadata": {
        "colab": {
          "base_uri": "https://localhost:8080/"
        },
        "id": "JO-i06CwrRM7",
        "outputId": "05b99ae6-386c-4a65-d37c-19f8d9829035"
      },
      "outputs": [
        {
          "name": "stdout",
          "output_type": "stream",
          "text": [
            "2.13.0\n"
          ]
        }
      ],
      "source": [
        "import tensorflow as tf # Import TensorFlow library.\n",
        "\n",
        "print(tf.__version__) # When writing this tutorial, the version of TensorFlow is 2.13.0."
      ]
    },
    {
      "cell_type": "code",
      "execution_count": null,
      "metadata": {
        "colab": {
          "base_uri": "https://localhost:8080/"
        },
        "id": "Sa1k8iDGr19R",
        "outputId": "54f8f92f-ff50-455a-8f08-36bf105ea790"
      },
      "outputs": [
        {
          "name": "stdout",
          "output_type": "stream",
          "text": [
            "Epoch 1/3\n",
            "625/625 [==============================] - 12s 17ms/step - loss: 0.3502 - accuracy: 0.8942\n",
            "Epoch 2/3\n",
            "625/625 [==============================] - 11s 18ms/step - loss: 0.1253 - accuracy: 0.9615\n",
            "Epoch 3/3\n",
            "625/625 [==============================] - 12s 19ms/step - loss: 0.0819 - accuracy: 0.9747\n"
          ]
        },
        {
          "data": {
            "text/plain": [
              "<keras.src.callbacks.History at 0x7b94339310c0>"
            ]
          },
          "execution_count": 2,
          "metadata": {},
          "output_type": "execute_result"
        }
      ],
      "source": [
        "# After going through the tutorial, you will be able to:\n",
        "# - Understand the basic concepts of TensorFlow.\n",
        "# - Build a simple neural network with TensorFlow.\n",
        "# - Train the neural network with your own data.\n",
        "# - Know how to control the training process.\n",
        "# - Save the trained model and load it for future use.\n",
        "\n",
        "# In the tutorial, repetitive import of TensorFlow modules will not be done in the same section.\n",
        "import pandas as pd\n",
        "data_train = pd.read_csv('/content/sample_data/mnist_train_small.csv', header=None).to_numpy()\n",
        "X_train, y_train = data_train[:,1:], data_train[:,0]\n",
        "# Normalize the data.\n",
        "X_train = X_train / 255\n",
        "\n",
        "# Build a simple neural network with 4 layers.\n",
        "# Dense layer: Each neuron in the layer is connected to all the neurons in the previous layer.\n",
        "# Also known as fully connected layer.\n",
        "model = tf.keras.models.Sequential([\n",
        "    tf.keras.layers.Dense(784, activation='relu'), # Dense layer with 784 neurons.\n",
        "    tf.keras.layers.Dense(128, activation='relu'), # Dense layer with 128 neurons.\n",
        "    tf.keras.layers.Dense(16, activation='relu'), # Dense layer with 16 neurons.\n",
        "    tf.keras.layers.Dense(10, activation='softmax') # Dense layer with 10 neurons.\n",
        "])\n",
        "\n",
        "# Compile the model.\n",
        "model.compile(optimizer='adam', # Adam optimizer.\n",
        "              loss='sparse_categorical_crossentropy', # Cross-entropy loss function.\n",
        "              metrics=['accuracy']) # Classification accuracy.\n",
        "# Train the model.\n",
        "model.fit(X_train, y_train, epochs=3, batch_size=32)"
      ]
    },
    {
      "cell_type": "markdown",
      "metadata": {
        "id": "cLb4nxfzds3V"
      },
      "source": [
        "## The Sequential model\n",
        "\n",
        "- [Sequential](https://www.tensorflow.org/versions/r2.13/api_docs/python/tf/keras/Sequential)\n",
        "- [Flatten](https://www.tensorflow.org/versions/r2.13/api_docs/python/tf/keras/layers/Flatten)\n",
        "- [Dense](https://www.tensorflow.org/versions/r2.13/api_docs/python/tf/keras/layers/Dense)\n",
        "- [Softmax](https://www.tensorflow.org/versions/r2.13/api_docs/python/tf/keras/layers/Softmax)"
      ]
    },
    {
      "cell_type": "markdown",
      "metadata": {
        "id": "Xv4Ucj0mpCjs"
      },
      "source": [
        "### Feedforward neural networks"
      ]
    },
    {
      "cell_type": "code",
      "execution_count": null,
      "metadata": {
        "id": "Yja6Iiatdgyx"
      },
      "outputs": [],
      "source": [
        "# Check the link above for more details.\n",
        "from tensorflow.keras.models import Sequential\n",
        "from tensorflow.keras.layers import Flatten, Dense, Softmax"
      ]
    },
    {
      "cell_type": "code",
      "execution_count": null,
      "metadata": {
        "colab": {
          "base_uri": "https://localhost:8080/"
        },
        "id": "VE3bS_yed1c8",
        "outputId": "8535f409-e39b-4661-bd28-ffd2945559b8"
      },
      "outputs": [
        {
          "name": "stdout",
          "output_type": "stream",
          "text": [
            "Model: \"sequential_1\"\n",
            "_________________________________________________________________\n",
            " Layer (type)                Output Shape              Param #   \n",
            "=================================================================\n",
            " dense_4 (Dense)             (None, 16)                12560     \n",
            "                                                                 \n",
            " dense_5 (Dense)             (None, 16)                272       \n",
            "                                                                 \n",
            " dense_6 (Dense)             (None, 10)                170       \n",
            "                                                                 \n",
            "=================================================================\n",
            "Total params: 13002 (50.79 KB)\n",
            "Trainable params: 13002 (50.79 KB)\n",
            "Non-trainable params: 0 (0.00 Byte)\n",
            "_________________________________________________________________\n"
          ]
        }
      ],
      "source": [
        "# Build a model using the Sequential API.\n",
        "model1 = Sequential([\n",
        "    Dense(16, activation='relu', input_shape=(784,)),\n",
        "    Dense(16, activation='relu'),\n",
        "    Dense(10, activation='softmax')\n",
        "])\n",
        "# Check the architecture of the model.\n",
        "model1.summary()"
      ]
    },
    {
      "cell_type": "code",
      "execution_count": null,
      "metadata": {
        "colab": {
          "base_uri": "https://localhost:8080/"
        },
        "id": "5_lgIxvjhcOs",
        "outputId": "8823feb2-5ffe-415b-8df1-d2cefa9c43fa"
      },
      "outputs": [
        {
          "name": "stdout",
          "output_type": "stream",
          "text": [
            "Model: \"sequential_2\"\n",
            "_________________________________________________________________\n",
            " Layer (type)                Output Shape              Param #   \n",
            "=================================================================\n",
            " dense_7 (Dense)             (None, 16)                12560     \n",
            "                                                                 \n",
            " dense_8 (Dense)             (None, 16)                272       \n",
            "                                                                 \n",
            " dense_9 (Dense)             (None, 10)                170       \n",
            "                                                                 \n",
            "=================================================================\n",
            "Total params: 13002 (50.79 KB)\n",
            "Trainable params: 13002 (50.79 KB)\n",
            "Non-trainable params: 0 (0.00 Byte)\n",
            "_________________________________________________________________\n"
          ]
        }
      ],
      "source": [
        "# Alternatively, we can also build a model using the Sequential API like this.\n",
        "model2 = Sequential()\n",
        "# We can add layers one by one.\n",
        "model2.add(Dense(16, activation='relu', input_shape=(784,)))\n",
        "model2.add(Dense(16, activation='relu'))\n",
        "model2.add(Dense(10, activation='softmax')) # Softmax activation for classification.\n",
        "# Exactly the same model as above.\n",
        "model2.summary()"
      ]
    },
    {
      "cell_type": "code",
      "execution_count": null,
      "metadata": {
        "colab": {
          "base_uri": "https://localhost:8080/"
        },
        "id": "2BSDMIB-erp5",
        "outputId": "38ff2a8a-a6fc-4c4a-9f71-42b5c5289922"
      },
      "outputs": [
        {
          "name": "stdout",
          "output_type": "stream",
          "text": [
            "Model: \"sequential_3\"\n",
            "_________________________________________________________________\n",
            " Layer (type)                Output Shape              Param #   \n",
            "=================================================================\n",
            " dense_10 (Dense)            (None, 16)                12560     \n",
            "                                                                 \n",
            " dense_11 (Dense)            (None, 16)                272       \n",
            "                                                                 \n",
            " dense_12 (Dense)            (None, 10)                170       \n",
            "                                                                 \n",
            " softmax (Softmax)           (None, 10)                0         \n",
            "                                                                 \n",
            "=================================================================\n",
            "Total params: 13002 (50.79 KB)\n",
            "Trainable params: 13002 (50.79 KB)\n",
            "Non-trainable params: 0 (0.00 Byte)\n",
            "_________________________________________________________________\n"
          ]
        }
      ],
      "source": [
        "# Add Softmax() separately\n",
        "# Identical to model1\n",
        "model3 = Sequential([\n",
        "    Dense(16, activation='relu', input_shape=(784,)),\n",
        "    Dense(16, activation='relu'),\n",
        "    Dense(10),\n",
        "    Softmax()\n",
        "])\n",
        "model3.summary()"
      ]
    },
    {
      "cell_type": "code",
      "execution_count": null,
      "metadata": {
        "colab": {
          "base_uri": "https://localhost:8080/"
        },
        "id": "ctoRI4Defm4o",
        "outputId": "9163c724-2727-48ca-8dbf-72c6a9440d95"
      },
      "outputs": [
        {
          "name": "stdout",
          "output_type": "stream",
          "text": [
            "Model: \"sequential_4\"\n",
            "_________________________________________________________________\n",
            " Layer (type)                Output Shape              Param #   \n",
            "=================================================================\n",
            " layer_1 (Dense)             (None, 16)                12560     \n",
            "                                                                 \n",
            " layer_2 (Dense)             (None, 16)                272       \n",
            "                                                                 \n",
            " layer_3 (Dense)             (None, 10)                170       \n",
            "                                                                 \n",
            "=================================================================\n",
            "Total params: 13002 (50.79 KB)\n",
            "Trainable params: 13002 (50.79 KB)\n",
            "Non-trainable params: 0 (0.00 Byte)\n",
            "_________________________________________________________________\n"
          ]
        }
      ],
      "source": [
        "# Assign names to the layers\n",
        "# You can assign any name to a layer by specifying the name parameter in its constructor.\n",
        "model4 = Sequential([\n",
        "    Dense(16, activation='relu', input_shape=(784,), name='layer_1'), # Here we assign the name 'layer_1' to this layer.\n",
        "    Dense(16, activation='relu', name='layer_2'),\n",
        "    Dense(10, activation='softmax', name='layer_3')\n",
        "])\n",
        "model4.summary()"
      ]
    },
    {
      "cell_type": "markdown",
      "metadata": {
        "id": "MXQwNEIQjLFV"
      },
      "source": [
        "### Convolutional and pooling layers\n",
        "\n",
        "- [Conv2D](https://www.tensorflow.org/versions/r2.13/api_docs/python/tf/keras/layers/Conv2D)\n",
        "- [MaxPooling2D](https://www.tensorflow.org/versions/r2.13/api_docs/python/tf/keras/layers/MaxPooling2D)\n",
        "\n",
        "**Q**: Why are pooling layers often included in convolutional neural networks?  \n",
        "**A**:\n",
        "1. To allow a degree of translational invariance on the input.\n",
        "2. To downsample the spatial dimensions, thereby reducing the number of network parameters."
      ]
    },
    {
      "cell_type": "code",
      "execution_count": null,
      "metadata": {
        "id": "ZaU0tcw4je-x"
      },
      "outputs": [],
      "source": [
        "# Check the link above for more details.\n",
        "from tensorflow.keras.layers import Conv2D, MaxPooling2D # Convolutional layers and pooling layers are typically used for image data."
      ]
    },
    {
      "cell_type": "code",
      "execution_count": null,
      "metadata": {
        "colab": {
          "base_uri": "https://localhost:8080/"
        },
        "id": "R2E4S45jjwdc",
        "outputId": "ac25a990-27bc-484f-c15d-5b03fff25867"
      },
      "outputs": [
        {
          "name": "stdout",
          "output_type": "stream",
          "text": [
            "Model: \"sequential_5\"\n",
            "_________________________________________________________________\n",
            " Layer (type)                Output Shape              Param #   \n",
            "=================================================================\n",
            " conv2d (Conv2D)             (None, 26, 26, 16)        160       \n",
            "                                                                 \n",
            " max_pooling2d (MaxPooling2  (None, 8, 8, 16)          0         \n",
            " D)                                                              \n",
            "                                                                 \n",
            " flatten (Flatten)           (None, 1024)              0         \n",
            "                                                                 \n",
            " dense_13 (Dense)            (None, 10)                10250     \n",
            "                                                                 \n",
            "=================================================================\n",
            "Total params: 10410 (40.66 KB)\n",
            "Trainable params: 10410 (40.66 KB)\n",
            "Non-trainable params: 0 (0.00 Byte)\n",
            "_________________________________________________________________\n"
          ]
        }
      ],
      "source": [
        "cnn_without_padding = Sequential([\n",
        "    Conv2D(16, (3, 3), activation='relu', input_shape=(28, 28, 1)), # 16 filters, each filter is 3x3, input shape is 28x28x1. '1' means the image is grayscale.\n",
        "    MaxPooling2D((3, 3)), # MaxPooling layer with a 3x3 filter.\n",
        "    Flatten(), # Flatten the output of the previous layer to 1D.\n",
        "    Dense(10, activation='softmax')\n",
        "])\n",
        "cnn_without_padding.summary()"
      ]
    },
    {
      "cell_type": "code",
      "execution_count": null,
      "metadata": {
        "colab": {
          "base_uri": "https://localhost:8080/"
        },
        "id": "XVEmHzUBxWDm",
        "outputId": "9a06fcab-61be-4051-ac37-a1ae426f468a"
      },
      "outputs": [
        {
          "name": "stdout",
          "output_type": "stream",
          "text": [
            "Model: \"sequential_6\"\n",
            "_________________________________________________________________\n",
            " Layer (type)                Output Shape              Param #   \n",
            "=================================================================\n",
            " conv2d_1 (Conv2D)           (None, 28, 28, 16)        160       \n",
            "                                                                 \n",
            " max_pooling2d_1 (MaxPoolin  (None, 9, 9, 16)          0         \n",
            " g2D)                                                            \n",
            "                                                                 \n",
            " flatten_1 (Flatten)         (None, 1296)              0         \n",
            "                                                                 \n",
            " dense_14 (Dense)            (None, 10)                12970     \n",
            "                                                                 \n",
            "=================================================================\n",
            "Total params: 13130 (51.29 KB)\n",
            "Trainable params: 13130 (51.29 KB)\n",
            "Non-trainable params: 0 (0.00 Byte)\n",
            "_________________________________________________________________\n"
          ]
        }
      ],
      "source": [
        "# Use padding='SAME' to add padding to the input.\n",
        "cnn_with_padding = Sequential([\n",
        "    Conv2D(16, (3, 3), padding='SAME', activation='relu', input_shape=(28, 28, 1)), # 'SAME' means the output has the same size as the input.\n",
        "    MaxPooling2D((3, 3)),\n",
        "    Flatten(),\n",
        "    Dense(10, activation='softmax')\n",
        "])\n",
        "cnn_with_padding.summary()"
      ]
    },
    {
      "cell_type": "code",
      "execution_count": null,
      "metadata": {
        "colab": {
          "base_uri": "https://localhost:8080/"
        },
        "id": "0iMsJ5EPxv0h",
        "outputId": "4f17fcd2-3e83-4612-8e53-a352192d70b0"
      },
      "outputs": [
        {
          "name": "stdout",
          "output_type": "stream",
          "text": [
            "Model: \"sequential_7\"\n",
            "_________________________________________________________________\n",
            " Layer (type)                Output Shape              Param #   \n",
            "=================================================================\n",
            " conv2d_2 (Conv2D)           (None, 16, 26, 26)        160       \n",
            "                                                                 \n",
            " max_pooling2d_2 (MaxPoolin  (None, 16, 8, 8)          0         \n",
            " g2D)                                                            \n",
            "                                                                 \n",
            " flatten_2 (Flatten)         (None, 1024)              0         \n",
            "                                                                 \n",
            " dense_15 (Dense)            (None, 10)                10250     \n",
            "                                                                 \n",
            "=================================================================\n",
            "Total params: 10410 (40.66 KB)\n",
            "Trainable params: 10410 (40.66 KB)\n",
            "Non-trainable params: 0 (0.00 Byte)\n",
            "_________________________________________________________________\n"
          ]
        }
      ],
      "source": [
        "# If you want to use channels_first data format, you should specify it at two places.\n",
        "cnn_first_channel = Sequential([\n",
        "    Conv2D(16, (3, 3), activation='relu', input_shape=(1, 28, 28), data_format='channels_first'), # 'channels_first' means the color channel comes first.\n",
        "    MaxPooling2D((3, 3), data_format='channels_first'), # Again, specify the data format.\n",
        "    Flatten(),\n",
        "    Dense(10, activation='softmax')\n",
        "])\n",
        "cnn_first_channel.summary()"
      ]
    },
    {
      "cell_type": "markdown",
      "metadata": {
        "id": "llAcGhAKzclN"
      },
      "source": [
        "### The compile method\n",
        "- [compile](https://www.tensorflow.org/api_docs/python/tf/keras/Sequential#compile)\n",
        "- [Adam](https://www.tensorflow.org/api_docs/python/tf/keras/optimizers/Adam)\n",
        "- [SparseCategoricalAccuracy](https://www.tensorflow.org/api_docs/python/tf/keras/metrics/SparseCategoricalAccuracy)\n",
        "- [MeanAbsoluteError](https://www.tensorflow.org/api_docs/python/tf/keras/metrics/MeanAbsoluteError)"
      ]
    },
    {
      "cell_type": "code",
      "execution_count": null,
      "metadata": {
        "colab": {
          "base_uri": "https://localhost:8080/"
        },
        "id": "MkSgE5_QzZTe",
        "outputId": "5cedde1f-b82c-42ce-ac95-4827698d4684"
      },
      "outputs": [
        {
          "name": "stdout",
          "output_type": "stream",
          "text": [
            "<keras.src.optimizers.adam.Adam object at 0x7b94317f8bb0>\n",
            "sparse_categorical_crossentropy\n",
            "['accuracy']\n"
          ]
        }
      ],
      "source": [
        "model = Sequential([\n",
        "    Dense(16, activation='relu'),\n",
        "    Dense(10, activation='softmax')\n",
        "])\n",
        "# Build the model using the compile method.\n",
        "# We need to specify the optimizer, loss function, and metrics to monitor during training.\n",
        "model.compile(optimizer='adam', # Options: 'sgd', etc.\n",
        "              loss='sparse_categorical_crossentropy', # Options: 'categorical_crossentropy', etc.\n",
        "              metrics=['accuracy']) # Options: 'mae', etc.\n",
        "print(model.optimizer)\n",
        "print(model.loss)\n",
        "print(model.compiled_metrics._metrics) # >>> print(model.metrics) >>> []"
      ]
    },
    {
      "cell_type": "code",
      "execution_count": null,
      "metadata": {
        "colab": {
          "base_uri": "https://localhost:8080/"
        },
        "id": "XiXhwLVhCuXp",
        "outputId": "325168a5-65dd-494c-c980-f3492de78fc4"
      },
      "outputs": [
        {
          "name": "stdout",
          "output_type": "stream",
          "text": [
            "<keras.src.optimizers.adam.Adam object at 0x7b94317e6710>\n",
            "<tf.Variable 'learning_rate:0' shape=() dtype=float32, numpy=1e-04>\n",
            "sparse_categorical_crossentropy\n",
            "[<keras.src.metrics.accuracy_metrics.SparseCategoricalAccuracy object at 0x7b94317f8610>, <keras.src.metrics.regression_metrics.MeanAbsoluteError object at 0x7b94317fa3e0>]\n"
          ]
        }
      ],
      "source": [
        "from tensorflow.keras.optimizers import Adam\n",
        "from tensorflow.keras.metrics import SparseCategoricalAccuracy, MeanAbsoluteError\n",
        "\n",
        "# Customize an optimizer\n",
        "optimizer = Adam(learning_rate=1e-4)\n",
        "acc = SparseCategoricalAccuracy()\n",
        "mae = MeanAbsoluteError()\n",
        "model.compile(optimizer=optimizer,\n",
        "              loss='sparse_categorical_crossentropy',\n",
        "              metrics=[acc, mae]) # Instead of passing a string, we pass an instance of the loss/metric class.\n",
        "print(model.optimizer)\n",
        "print(model.optimizer.lr)\n",
        "print(model.loss)\n",
        "print(model.compiled_metrics._metrics)"
      ]
    },
    {
      "cell_type": "markdown",
      "metadata": {
        "id": "qaMHg4w1Ejmv"
      },
      "source": [
        "### The fit method\n",
        "- [fit](https://www.tensorflow.org/api_docs/python/tf/keras/Sequential#fit)\n",
        "- [fashion_mnist](https://www.tensorflow.org/api_docs/python/tf/keras/datasets/fashion_mnist)"
      ]
    },
    {
      "cell_type": "code",
      "execution_count": null,
      "metadata": {
        "colab": {
          "base_uri": "https://localhost:8080/"
        },
        "id": "3sdpsNeoEmzi",
        "outputId": "a66f0827-00bc-4b30-f1ac-b17c6651e68f"
      },
      "outputs": [
        {
          "name": "stdout",
          "output_type": "stream",
          "text": [
            "Downloading data from https://storage.googleapis.com/tensorflow/tf-keras-datasets/train-labels-idx1-ubyte.gz\n",
            "29515/29515 [==============================] - 0s 0us/step\n",
            "Downloading data from https://storage.googleapis.com/tensorflow/tf-keras-datasets/train-images-idx3-ubyte.gz\n",
            "26421880/26421880 [==============================] - 0s 0us/step\n",
            "Downloading data from https://storage.googleapis.com/tensorflow/tf-keras-datasets/t10k-labels-idx1-ubyte.gz\n",
            "5148/5148 [==============================] - 0s 0us/step\n",
            "Downloading data from https://storage.googleapis.com/tensorflow/tf-keras-datasets/t10k-images-idx3-ubyte.gz\n",
            "4422102/4422102 [==============================] - 0s 0us/step\n"
          ]
        }
      ],
      "source": [
        "import numpy as np\n",
        "import pandas as pd\n",
        "import matplotlib.pyplot as plt\n",
        "from tensorflow.keras.preprocessing import image\n",
        "from tensorflow.keras.datasets import fashion_mnist # Import FashionMNIST dataset. Check the link above for more details.\n",
        "\n",
        "# Load FashionMNIST\n",
        "(train_images, train_labels), (test_images, test_labels) = fashion_mnist.load_data()\n",
        "# Normalize the images.\n",
        "train_images = train_images / 255.\n",
        "test_images = test_images / 255.\n",
        "\n",
        "# Define the model\n",
        "model = Sequential([\n",
        "    Conv2D(16, (3, 3), activation='relu', input_shape=(28, 28, 1)),\n",
        "    MaxPooling2D((3, 3)),\n",
        "    Flatten(),\n",
        "    Dense(10, activation='softmax')\n",
        "])\n",
        "\n",
        "# Compile the model\n",
        "# Define the optimizer, loss function and metrics before compiling.\n",
        "opt = Adam(learning_rate=5e-3)\n",
        "acc = SparseCategoricalAccuracy()\n",
        "mae = MeanAbsoluteError()\n",
        "model.compile(optimizer=opt,\n",
        "              loss='sparse_categorical_crossentropy',\n",
        "              metrics=[acc, mae])"
      ]
    },
    {
      "cell_type": "code",
      "execution_count": null,
      "metadata": {
        "colab": {
          "base_uri": "https://localhost:8080/",
          "height": 453
        },
        "id": "ObOZwU89H4Af",
        "outputId": "31a6a513-58ea-4713-cf47-32b0fee0e24c"
      },
      "outputs": [
        {
          "data": {
            "image/png": "[encoded data removed]",
            "text/plain": [
              "<Figure size 640x480 with 1 Axes>"
            ]
          },
          "metadata": {},
          "output_type": "display_data"
        }
      ],
      "source": [
        "# Define labels for FashionMNIST\n",
        "# Here we just hard code the labels for FashionMNIST.\n",
        "labels = [\n",
        "    'T-shirt/top',\n",
        "    'Trouser',\n",
        "    'Pullover',\n",
        "    'Dress',\n",
        "    'Coat',\n",
        "    'Sandal',\n",
        "    'Shirt',\n",
        "    'Sneaker',\n",
        "    'Bag',\n",
        "    'Ankle boot'\n",
        "]\n",
        "\n",
        "i = 123 # You can change this number to check other images as you like.\n",
        "image = train_images[i, :, :]\n",
        "plt.imshow(image)\n",
        "plt.suptitle(f\"Label: {labels[train_labels[i]]}\", y=0.05)\n",
        "plt.show()"
      ]
    },
    {
      "cell_type": "code",
      "execution_count": null,
      "metadata": {
        "colab": {
          "base_uri": "https://localhost:8080/"
        },
        "id": "r4LcmL7QJQra",
        "outputId": "d56ecb5e-fb83-4f84-8548-222c527bce5f"
      },
      "outputs": [
        {
          "name": "stdout",
          "output_type": "stream",
          "text": [
            "Epoch 1/5\n",
            "235/235 [==============================] - 15s 62ms/step - loss: 0.5695 - sparse_categorical_accuracy: 0.8035 - mean_absolute_error: 4.4200\n",
            "Epoch 2/5\n",
            "235/235 [==============================] - 15s 63ms/step - loss: 0.3711 - sparse_categorical_accuracy: 0.8688 - mean_absolute_error: 4.4200\n",
            "Epoch 3/5\n",
            "235/235 [==============================] - 16s 68ms/step - loss: 0.3308 - sparse_categorical_accuracy: 0.8837 - mean_absolute_error: 4.4200\n",
            "Epoch 4/5\n",
            "235/235 [==============================] - 15s 62ms/step - loss: 0.3100 - sparse_categorical_accuracy: 0.8906 - mean_absolute_error: 4.4200\n",
            "Epoch 5/5\n",
            "235/235 [==============================] - 15s 62ms/step - loss: 0.2976 - sparse_categorical_accuracy: 0.8932 - mean_absolute_error: 4.4200\n"
          ]
        },
        {
          "data": {
            "text/plain": [
              "<keras.src.callbacks.History at 0x7b94317807f0>"
            ]
          },
          "execution_count": 16,
          "metadata": {},
          "output_type": "execute_result"
        }
      ],
      "source": [
        "# When feeding the data to the model, we need to add a channel dimension to the data.\n",
        "model.fit(train_images[..., np.newaxis], train_labels, epochs=5, batch_size=256)"
      ]
    },
    {
      "cell_type": "code",
      "execution_count": null,
      "metadata": {
        "colab": {
          "base_uri": "https://localhost:8080/"
        },
        "id": "dPXDi0tVKP3S",
        "outputId": "006f08c1-da46-4943-860d-630df6e82a13"
      },
      "outputs": [
        {
          "name": "stdout",
          "output_type": "stream",
          "text": [
            "Epoch 1/10\n",
            "235/235 - 15s - loss: 0.2878 - sparse_categorical_accuracy: 0.8968 - mean_absolute_error: 4.4200 - 15s/epoch - 63ms/step\n",
            "Epoch 2/10\n",
            "235/235 - 13s - loss: 0.2785 - sparse_categorical_accuracy: 0.9004 - mean_absolute_error: 4.4200 - 13s/epoch - 56ms/step\n",
            "Epoch 3/10\n",
            "235/235 - 13s - loss: 0.2728 - sparse_categorical_accuracy: 0.9024 - mean_absolute_error: 4.4200 - 13s/epoch - 55ms/step\n",
            "Epoch 4/10\n",
            "235/235 - 13s - loss: 0.2706 - sparse_categorical_accuracy: 0.9017 - mean_absolute_error: 4.4200 - 13s/epoch - 56ms/step\n",
            "Epoch 5/10\n",
            "235/235 - 13s - loss: 0.2650 - sparse_categorical_accuracy: 0.9042 - mean_absolute_error: 4.4200 - 13s/epoch - 56ms/step\n",
            "Epoch 6/10\n",
            "235/235 - 13s - loss: 0.2593 - sparse_categorical_accuracy: 0.9064 - mean_absolute_error: 4.4200 - 13s/epoch - 56ms/step\n",
            "Epoch 7/10\n",
            "235/235 - 13s - loss: 0.2535 - sparse_categorical_accuracy: 0.9078 - mean_absolute_error: 4.4200 - 13s/epoch - 55ms/step\n",
            "Epoch 8/10\n",
            "235/235 - 13s - loss: 0.2499 - sparse_categorical_accuracy: 0.9085 - mean_absolute_error: 4.4200 - 13s/epoch - 56ms/step\n",
            "Epoch 9/10\n",
            "235/235 - 13s - loss: 0.2457 - sparse_categorical_accuracy: 0.9107 - mean_absolute_error: 4.4200 - 13s/epoch - 56ms/step\n",
            "Epoch 10/10\n",
            "235/235 - 13s - loss: 0.2451 - sparse_categorical_accuracy: 0.9108 - mean_absolute_error: 4.4200 - 13s/epoch - 56ms/step\n"
          ]
        }
      ],
      "source": [
        "# Similarly, we need to add a channel dimension to the train data.\n",
        "# Addtionally, we can record the history of the training process.\n",
        "history = model.fit(train_images[..., np.newaxis], train_labels, epochs=10, batch_size=256, verbose=2)"
      ]
    },
    {
      "cell_type": "code",
      "execution_count": null,
      "metadata": {
        "colab": {
          "base_uri": "https://localhost:8080/",
          "height": 363
        },
        "id": "8NnUg8UiK7Yu",
        "outputId": "b09fd6f5-b830-4229-cb4a-2fce74c78c46"
      },
      "outputs": [
        {
          "data": {
            "text/html": [
              "\n",
              "  <div id=\"df-e9985b00-1afb-4188-b3eb-b2970268f631\" class=\"colab-df-container\">\n",
              "    <div>\n",
              "<style scoped>\n",
              "    .dataframe tbody tr th:only-of-type {\n",
              "        vertical-align: middle;\n",
              "    }\n",
              "\n",
              "    .dataframe tbody tr th {\n",
              "        vertical-align: top;\n",
              "    }\n",
              "\n",
              "    .dataframe thead th {\n",
              "        text-align: right;\n",
              "    }\n",
              "</style>\n",
              "<table border=\"1\" class=\"dataframe\">\n",
              "  <thead>\n",
              "    <tr style=\"text-align: right;\">\n",
              "      <th></th>\n",
              "      <th>loss</th>\n",
              "      <th>sparse_categorical_accuracy</th>\n",
              "      <th>mean_absolute_error</th>\n",
              "    </tr>\n",
              "  </thead>\n",
              "  <tbody>\n",
              "    <tr>\n",
              "      <th>0</th>\n",
              "      <td>0.287817</td>\n",
              "      <td>0.896800</td>\n",
              "      <td>4.420001</td>\n",
              "    </tr>\n",
              "    <tr>\n",
              "      <th>1</th>\n",
              "      <td>0.278539</td>\n",
              "      <td>0.900400</td>\n",
              "      <td>4.419999</td>\n",
              "    </tr>\n",
              "    <tr>\n",
              "      <th>2</th>\n",
              "      <td>0.272847</td>\n",
              "      <td>0.902367</td>\n",
              "      <td>4.420000</td>\n",
              "    </tr>\n",
              "    <tr>\n",
              "      <th>3</th>\n",
              "      <td>0.270589</td>\n",
              "      <td>0.901667</td>\n",
              "      <td>4.420000</td>\n",
              "    </tr>\n",
              "    <tr>\n",
              "      <th>4</th>\n",
              "      <td>0.265013</td>\n",
              "      <td>0.904167</td>\n",
              "      <td>4.420000</td>\n",
              "    </tr>\n",
              "    <tr>\n",
              "      <th>5</th>\n",
              "      <td>0.259324</td>\n",
              "      <td>0.906350</td>\n",
              "      <td>4.420000</td>\n",
              "    </tr>\n",
              "    <tr>\n",
              "      <th>6</th>\n",
              "      <td>0.253521</td>\n",
              "      <td>0.907800</td>\n",
              "      <td>4.420000</td>\n",
              "    </tr>\n",
              "    <tr>\n",
              "      <th>7</th>\n",
              "      <td>0.249851</td>\n",
              "      <td>0.908483</td>\n",
              "      <td>4.420000</td>\n",
              "    </tr>\n",
              "    <tr>\n",
              "      <th>8</th>\n",
              "      <td>0.245694</td>\n",
              "      <td>0.910683</td>\n",
              "      <td>4.420000</td>\n",
              "    </tr>\n",
              "    <tr>\n",
              "      <th>9</th>\n",
              "      <td>0.245112</td>\n",
              "      <td>0.910800</td>\n",
              "      <td>4.420001</td>\n",
              "    </tr>\n",
              "  </tbody>\n",
              "</table>\n",
              "</div>\n",
              "    <div class=\"colab-df-buttons\">\n",
              "\n",
              "  <div class=\"colab-df-container\">\n",
              "    <button class=\"colab-df-convert\" onclick=\"convertToInteractive('df-e9985b00-1afb-4188-b3eb-b2970268f631')\"\n",
              "            title=\"Convert this dataframe to an interactive table.\"\n",
              "            style=\"display:none;\">\n",
              "\n",
              "  <svg xmlns=\"http://www.w3.org/2000/svg\" height=\"24px\" viewBox=\"0 -960 960 960\">\n",
              "    <path d=\"M120-120v-720h720v720H120Zm60-500h600v-160H180v160Zm220 220h160v-160H400v160Zm0 220h160v-160H400v160ZM180-400h160v-160H180v160Zm440 0h160v-160H620v160ZM180-180h160v-160H180v160Zm440 0h160v-160H620v160Z\"/>\n",
              "  </svg>\n",
              "    </button>\n",
              "\n",
              "  <style>\n",
              "    .colab-df-container {\n",
              "      display:flex;\n",
              "      gap: 12px;\n",
              "    }\n",
              "\n",
              "    .colab-df-convert {\n",
              "      background-color: #E8F0FE;\n",
              "      border: none;\n",
              "      border-radius: 50%;\n",
              "      cursor: pointer;\n",
              "      display: none;\n",
              "      fill: #1967D2;\n",
              "      height: 32px;\n",
              "      padding: 0 0 0 0;\n",
              "      width: 32px;\n",
              "    }\n",
              "\n",
              "    .colab-df-convert:hover {\n",
              "      background-color: #E2EBFA;\n",
              "      box-shadow: 0px 1px 2px rgba(60, 64, 67, 0.3), 0px 1px 3px 1px rgba(60, 64, 67, 0.15);\n",
              "      fill: #174EA6;\n",
              "    }\n",
              "\n",
              "    .colab-df-buttons div {\n",
              "      margin-bottom: 4px;\n",
              "    }\n",
              "\n",
              "    [theme=dark] .colab-df-convert {\n",
              "      background-color: #3B4455;\n",
              "      fill: #D2E3FC;\n",
              "    }\n",
              "\n",
              "    [theme=dark] .colab-df-convert:hover {\n",
              "      background-color: #434B5C;\n",
              "      box-shadow: 0px 1px 3px 1px rgba(0, 0, 0, 0.15);\n",
              "      filter: drop-shadow(0px 1px 2px rgba(0, 0, 0, 0.3));\n",
              "      fill: #FFFFFF;\n",
              "    }\n",
              "  </style>\n",
              "\n",
              "    <script>\n",
              "      const buttonEl =\n",
              "        document.querySelector('#df-e9985b00-1afb-4188-b3eb-b2970268f631 button.colab-df-convert');\n",
              "      buttonEl.style.display =\n",
              "        google.colab.kernel.accessAllowed ? 'block' : 'none';\n",
              "\n",
              "      async function convertToInteractive(key) {\n",
              "        const element = document.querySelector('#df-e9985b00-1afb-4188-b3eb-b2970268f631');\n",
              "        const dataTable =\n",
              "          await google.colab.kernel.invokeFunction('convertToInteractive',\n",
              "                                                    [key], {});\n",
              "        if (!dataTable) return;\n",
              "\n",
              "        const docLinkHtml = 'Like what you see? Visit the ' +\n",
              "          '<a target=\"_blank\" href=https://colab.research.google.com/notebooks/data_table.ipynb>data table notebook</a>'\n",
              "          + ' to learn more about interactive tables.';\n",
              "        element.innerHTML = '';\n",
              "        dataTable['output_type'] = 'display_data';\n",
              "        await google.colab.output.renderOutput(dataTable, element);\n",
              "        const docLink = document.createElement('div');\n",
              "        docLink.innerHTML = docLinkHtml;\n",
              "        element.appendChild(docLink);\n",
              "      }\n",
              "    </script>\n",
              "  </div>\n",
              "\n",
              "\n",
              "<div id=\"df-02d97a1e-c1af-41db-b046-a23b9018c06f\">\n",
              "  <button class=\"colab-df-quickchart\" onclick=\"quickchart('df-02d97a1e-c1af-41db-b046-a23b9018c06f')\"\n",
              "            title=\"Suggest charts.\"\n",
              "            style=\"display:none;\">\n",
              "\n",
              "<svg xmlns=\"http://www.w3.org/2000/svg\" height=\"24px\"viewBox=\"0 0 24 24\"\n",
              "     width=\"24px\">\n",
              "    <g>\n",
              "        <path d=\"M19 3H5c-1.1 0-2 .9-2 2v14c0 1.1.9 2 2 2h14c1.1 0 2-.9 2-2V5c0-1.1-.9-2-2-2zM9 17H7v-7h2v7zm4 0h-2V7h2v10zm4 0h-2v-4h2v4z\"/>\n",
              "    </g>\n",
              "</svg>\n",
              "  </button>\n",
              "\n",
              "<style>\n",
              "  .colab-df-quickchart {\n",
              "      --bg-color: #E8F0FE;\n",
              "      --fill-color: #1967D2;\n",
              "      --hover-bg-color: #E2EBFA;\n",
              "      --hover-fill-color: #174EA6;\n",
              "      --disabled-fill-color: #AAA;\n",
              "      --disabled-bg-color: #DDD;\n",
              "  }\n",
              "\n",
              "  [theme=dark] .colab-df-quickchart {\n",
              "      --bg-color: #3B4455;\n",
              "      --fill-color: #D2E3FC;\n",
              "      --hover-bg-color: #434B5C;\n",
              "      --hover-fill-color: #FFFFFF;\n",
              "      --disabled-bg-color: #3B4455;\n",
              "      --disabled-fill-color: #666;\n",
              "  }\n",
              "\n",
              "  .colab-df-quickchart {\n",
              "    background-color: var(--bg-color);\n",
              "    border: none;\n",
              "    border-radius: 50%;\n",
              "    cursor: pointer;\n",
              "    display: none;\n",
              "    fill: var(--fill-color);\n",
              "    height: 32px;\n",
              "    padding: 0;\n",
              "    width: 32px;\n",
              "  }\n",
              "\n",
              "  .colab-df-quickchart:hover {\n",
              "    background-color: var(--hover-bg-color);\n",
              "    box-shadow: 0 1px 2px rgba(60, 64, 67, 0.3), 0 1px 3px 1px rgba(60, 64, 67, 0.15);\n",
              "    fill: var(--button-hover-fill-color);\n",
              "  }\n",
              "\n",
              "  .colab-df-quickchart-complete:disabled,\n",
              "  .colab-df-quickchart-complete:disabled:hover {\n",
              "    background-color: var(--disabled-bg-color);\n",
              "    fill: var(--disabled-fill-color);\n",
              "    box-shadow: none;\n",
              "  }\n",
              "\n",
              "  .colab-df-spinner {\n",
              "    border: 2px solid var(--fill-color);\n",
              "    border-color: transparent;\n",
              "    border-bottom-color: var(--fill-color);\n",
              "    animation:\n",
              "      spin 1s steps(1) infinite;\n",
              "  }\n",
              "\n",
              "  @keyframes spin {\n",
              "    0% {\n",
              "      border-color: transparent;\n",
              "      border-bottom-color: var(--fill-color);\n",
              "      border-left-color: var(--fill-color);\n",
              "    }\n",
              "    20% {\n",
              "      border-color: transparent;\n",
              "      border-left-color: var(--fill-color);\n",
              "      border-top-color: var(--fill-color);\n",
              "    }\n",
              "    30% {\n",
              "      border-color: transparent;\n",
              "      border-left-color: var(--fill-color);\n",
              "      border-top-color: var(--fill-color);\n",
              "      border-right-color: var(--fill-color);\n",
              "    }\n",
              "    40% {\n",
              "      border-color: transparent;\n",
              "      border-right-color: var(--fill-color);\n",
              "      border-top-color: var(--fill-color);\n",
              "    }\n",
              "    60% {\n",
              "      border-color: transparent;\n",
              "      border-right-color: var(--fill-color);\n",
              "    }\n",
              "    80% {\n",
              "      border-color: transparent;\n",
              "      border-right-color: var(--fill-color);\n",
              "      border-bottom-color: var(--fill-color);\n",
              "    }\n",
              "    90% {\n",
              "      border-color: transparent;\n",
              "      border-bottom-color: var(--fill-color);\n",
              "    }\n",
              "  }\n",
              "</style>\n",
              "\n",
              "  <script>\n",
              "    async function quickchart(key) {\n",
              "      const quickchartButtonEl =\n",
              "        document.querySelector('#' + key + ' button');\n",
              "      quickchartButtonEl.disabled = true;  // To prevent multiple clicks.\n",
              "      quickchartButtonEl.classList.add('colab-df-spinner');\n",
              "      try {\n",
              "        const charts = await google.colab.kernel.invokeFunction(\n",
              "            'suggestCharts', [key], {});\n",
              "      } catch (error) {\n",
              "        console.error('Error during call to suggestCharts:', error);\n",
              "      }\n",
              "      quickchartButtonEl.classList.remove('colab-df-spinner');\n",
              "      quickchartButtonEl.classList.add('colab-df-quickchart-complete');\n",
              "    }\n",
              "    (() => {\n",
              "      let quickchartButtonEl =\n",
              "        document.querySelector('#df-02d97a1e-c1af-41db-b046-a23b9018c06f button');\n",
              "      quickchartButtonEl.style.display =\n",
              "        google.colab.kernel.accessAllowed ? 'block' : 'none';\n",
              "    })();\n",
              "  </script>\n",
              "</div>\n",
              "    </div>\n",
              "  </div>\n"
            ],
            "text/plain": [
              "       loss  sparse_categorical_accuracy  mean_absolute_error\n",
              "0  0.287817                     0.896800             4.420001\n",
              "1  0.278539                     0.900400             4.419999\n",
              "2  0.272847                     0.902367             4.420000\n",
              "3  0.270589                     0.901667             4.420000\n",
              "4  0.265013                     0.904167             4.420000\n",
              "5  0.259324                     0.906350             4.420000\n",
              "6  0.253521                     0.907800             4.420000\n",
              "7  0.249851                     0.908483             4.420000\n",
              "8  0.245694                     0.910683             4.420000\n",
              "9  0.245112                     0.910800             4.420001"
            ]
          },
          "execution_count": 18,
          "metadata": {},
          "output_type": "execute_result"
        }
      ],
      "source": [
        "# Load the history into a pandas DataFrame\n",
        "df = pd.DataFrame(history.history)\n",
        "df.head(10)"
      ]
    },
    {
      "cell_type": "code",
      "execution_count": null,
      "metadata": {
        "colab": {
          "base_uri": "https://localhost:8080/",
          "height": 467
        },
        "id": "KWsvXcJ_Ldsg",
        "outputId": "5a593132-be5f-4909-818d-a225b6a66968"
      },
      "outputs": [
        {
          "data": {
            "text/plain": [
              "[Text(0.5, 0, 'Epochs'), Text(0, 0.5, 'Loss')]"
            ]
          },
          "execution_count": 19,
          "metadata": {},
          "output_type": "execute_result"
        },
        {
          "data": {
            "image/png": "[encoded data removed]",
            "text/plain": [
              "<Figure size 640x480 with 1 Axes>"
            ]
          },
          "metadata": {},
          "output_type": "display_data"
        }
      ],
      "source": [
        "# Let's plot the history.\n",
        "loss_plot = df.plot(y=\"loss\", legend=False)\n",
        "loss_plot.set(xlabel=\"Epochs\", ylabel=\"Loss\")"
      ]
    },
    {
      "cell_type": "code",
      "execution_count": null,
      "metadata": {
        "colab": {
          "base_uri": "https://localhost:8080/",
          "height": 467
        },
        "id": "_607FV9KL7u5",
        "outputId": "3c23cbf0-52d9-483d-c3a2-0dcdb4975399"
      },
      "outputs": [
        {
          "data": {
            "text/plain": [
              "[Text(0.5, 0, 'Epochs'), Text(0, 0.5, 'Accuracy')]"
            ]
          },
          "execution_count": 20,
          "metadata": {},
          "output_type": "execute_result"
        },
        {
          "data": {
            "image/png": "[encoded data removed]",
            "text/plain": [
              "<Figure size 640x480 with 1 Axes>"
            ]
          },
          "metadata": {},
          "output_type": "display_data"
        }
      ],
      "source": [
        "acc_plot = df.plot(y=\"sparse_categorical_accuracy\", legend=False)\n",
        "acc_plot.set(xlabel=\"Epochs\", ylabel=\"Accuracy\")"
      ]
    },
    {
      "cell_type": "markdown",
      "metadata": {
        "id": "Hi1T8vQQMbAw"
      },
      "source": [
        "### The evaluate and predict methods\n",
        "- [evaluate](https://www.tensorflow.org/api_docs/python/tf/keras/Sequential#evaluate)\n",
        "- [predict](https://www.tensorflow.org/api_docs/python/tf/keras/Sequential#predict)"
      ]
    },
    {
      "cell_type": "code",
      "execution_count": null,
      "metadata": {
        "colab": {
          "base_uri": "https://localhost:8080/"
        },
        "id": "_ovcOE-aMiSo",
        "outputId": "46cc34e0-3e31-423f-b103-9ba6a5c83e9d"
      },
      "outputs": [
        {
          "name": "stdout",
          "output_type": "stream",
          "text": [
            "313/313 [==============================] - 2s 5ms/step - loss: 0.3107 - sparse_categorical_accuracy: 0.8907 - mean_absolute_error: 4.4200\n",
            "0.31\n",
            "0.89\n",
            "4.42\n"
          ]
        }
      ],
      "source": [
        "# Add a channel dimension to the test data as well.\n",
        "loss, acc, mae = model.evaluate(test_images[..., np.newaxis], test_labels)\n",
        "print(f\"{loss:.2f}\")\n",
        "print(f\"{acc:.2f}\")\n",
        "print(f\"{mae:.2f}\")"
      ]
    },
    {
      "cell_type": "code",
      "execution_count": null,
      "metadata": {
        "colab": {
          "base_uri": "https://localhost:8080/",
          "height": 453
        },
        "id": "sDTZE_fnNW2P",
        "outputId": "b4159fa2-e7ce-4d4b-c15b-d352c75a6b81"
      },
      "outputs": [
        {
          "data": {
            "image/png": "[encoded data removed]",
            "text/plain": [
              "<Figure size 640x480 with 1 Axes>"
            ]
          },
          "metadata": {},
          "output_type": "display_data"
        }
      ],
      "source": [
        "# Randomly choose a test image\n",
        "i = np.random.choice(test_images.shape[0])\n",
        "\n",
        "test_image = test_images[i]\n",
        "plt.imshow(test_image)\n",
        "plt.suptitle(f\"Label: {labels[test_labels[i]]}\", y=0.05)\n",
        "plt.show()"
      ]
    },
    {
      "cell_type": "markdown",
      "metadata": {
        "id": "4L2pMIKXHblU"
      },
      "source": [
        "## Validation, regularization and callbacks"
      ]
    },
    {
      "cell_type": "markdown",
      "metadata": {
        "id": "iRQy_B-iI2Cn"
      },
      "source": [
        "### Validation"
      ]
    },
    {
      "cell_type": "code",
      "execution_count": null,
      "metadata": {
        "id": "PRf627_lHhKC"
      },
      "outputs": [],
      "source": [
        "from sklearn.datasets import load_diabetes\n",
        "from sklearn.model_selection import train_test_split\n",
        "from tensorflow.keras.models import Sequential\n",
        "from tensorflow.keras.layers import Dense\n",
        "\n",
        "# Load the diabetes dataset\n",
        "diabetes_dataset = load_diabetes()\n",
        "# print(diabetes_dataset['DESCR'])\n",
        "\n",
        "# Save the input and target variables\n",
        "data = diabetes_dataset['data']\n",
        "target = diabetes_dataset['target']\n",
        "\n",
        "# Normalize target values\n",
        "target = (target - target.mean(axis=0)) / target.std()\n",
        "\n",
        "# In practice, it is recommended to split the data into training set and test set.\n",
        "train_data, test_data, train_target, test_target = train_test_split(data, target, test_size=0.1)\n",
        "\n",
        "def return_model():\n",
        "  model = Sequential([\n",
        "      Dense(128, activation='relu', input_shape=(train_data.shape[1], )),\n",
        "      *[Dense(128, activation='relu') for _ in range(5)], # This is a list comprehension. It is simpler than adding layers one by one.\n",
        "      Dense(1)\n",
        "  ])\n",
        "  return model\n",
        "\n",
        "model = return_model()"
      ]
    },
    {
      "cell_type": "code",
      "execution_count": null,
      "metadata": {
        "colab": {
          "base_uri": "https://localhost:8080/"
        },
        "id": "0U554B6kPCFp",
        "outputId": "916b9f15-fd4f-45ad-bffc-7f4206813b35"
      },
      "outputs": [
        {
          "name": "stdout",
          "output_type": "stream",
          "text": [
            "Model: \"sequential_10\"\n",
            "_________________________________________________________________\n",
            " Layer (type)                Output Shape              Param #   \n",
            "=================================================================\n",
            " dense_19 (Dense)            (None, 128)               1408      \n",
            "                                                                 \n",
            " dense_20 (Dense)            (None, 128)               16512     \n",
            "                                                                 \n",
            " dense_21 (Dense)            (None, 128)               16512     \n",
            "                                                                 \n",
            " dense_22 (Dense)            (None, 128)               16512     \n",
            "                                                                 \n",
            " dense_23 (Dense)            (None, 128)               16512     \n",
            "                                                                 \n",
            " dense_24 (Dense)            (None, 128)               16512     \n",
            "                                                                 \n",
            " dense_25 (Dense)            (None, 1)                 129       \n",
            "                                                                 \n",
            "=================================================================\n",
            "Total params: 84097 (328.50 KB)\n",
            "Trainable params: 84097 (328.50 KB)\n",
            "Non-trainable params: 0 (0.00 Byte)\n",
            "_________________________________________________________________\n"
          ]
        }
      ],
      "source": [
        "model.summary()"
      ]
    },
    {
      "cell_type": "code",
      "execution_count": null,
      "metadata": {
        "id": "W007qNbkPCKm"
      },
      "outputs": [],
      "source": [
        "model.compile(\n",
        "    optimizer='adam',\n",
        "    loss='mse',\n",
        "    metrics=['mae']\n",
        ")\n",
        "history = model.fit(train_data, train_target, epochs=100,\n",
        "                    validation_split=0.15, batch_size=64, verbose=False) # Train/Test/Validation: 76.5/13.5/10. Rememeber we've already split the data into train/test."
      ]
    },
    {
      "cell_type": "code",
      "execution_count": null,
      "metadata": {
        "colab": {
          "base_uri": "https://localhost:8080/"
        },
        "id": "XRlAHMOwQFYB",
        "outputId": "f10b6508-647f-4ebf-8e51-ef8941382320"
      },
      "outputs": [
        {
          "name": "stdout",
          "output_type": "stream",
          "text": [
            "2/2 - 0s - loss: 0.9341 - mae: 0.7578 - 25ms/epoch - 13ms/step\n"
          ]
        },
        {
          "data": {
            "text/plain": [
              "[0.9341440796852112, 0.7578440308570862]"
            ]
          },
          "execution_count": 26,
          "metadata": {},
          "output_type": "execute_result"
        }
      ],
      "source": [
        "model.evaluate(test_data, test_target, verbose=2)"
      ]
    },
    {
      "cell_type": "code",
      "execution_count": null,
      "metadata": {
        "colab": {
          "base_uri": "https://localhost:8080/",
          "height": 472
        },
        "id": "TarIxXX5QUCc",
        "outputId": "f9c1022e-106a-4952-fc03-428404d2db71"
      },
      "outputs": [
        {
          "data": {
            "image/png": "[encoded data removed]",
            "text/plain": [
              "<Figure size 640x480 with 1 Axes>"
            ]
          },
          "metadata": {},
          "output_type": "display_data"
        }
      ],
      "source": [
        "import matplotlib.pyplot as plt\n",
        "# Plot the training and validation loss\n",
        "plt.plot(history.history['loss'])\n",
        "plt.plot(history.history['val_loss'])\n",
        "plt.title('Loss vs. epochs')\n",
        "plt.ylabel('Loss')\n",
        "plt.xlabel('Epoch')\n",
        "plt.legend(['Training', 'Validation'], loc='upper right')\n",
        "plt.show() # You can observe overfitting below."
      ]
    },
    {
      "cell_type": "markdown",
      "metadata": {
        "id": "WJp-qr3XQl0q"
      },
      "source": [
        "### Regularization\n",
        "- [l1](https://www.tensorflow.org/api_docs/python/tf/keras/regularizers/L1)\n",
        "- [l2](https://www.tensorflow.org/api_docs/python/tf/keras/regularizers/L2)\n",
        "- [l1_l2](https://www.tensorflow.org/api_docs/python/tf/keras/regularizers/l1_l2)\n",
        "- [Dropout](https://www.tensorflow.org/api_docs/python/tf/keras/layers/Dropout)"
      ]
    },
    {
      "cell_type": "code",
      "execution_count": null,
      "metadata": {
        "id": "LhAxyzo6Q3vM"
      },
      "outputs": [],
      "source": [
        "from tensorflow.keras.layers import Dropout\n",
        "from tensorflow.keras.regularizers import l2 #, l1, l1_l2 # Feel free to try other regularizers\n",
        "\n",
        "def return_reg_model(weight_decay, dropout_rate):\n",
        "  model_reg = Sequential([\n",
        "      Dense(128, activation='relu', kernel_regularizer=l2(weight_decay), input_shape=(train_data.shape[1], )), # Add regularization to the first layer.\n",
        "      Dropout(dropout_rate),\n",
        "      *[Dense(128, activation='relu', kernel_regularizer=l2(weight_decay)) for _ in range(5)] # Add regularization to the rest of the layers.\n",
        "      + [Dropout(dropout_rate) for _ in range(5)],\n",
        "      Dense(1)\n",
        "  ])\n",
        "  return model_reg\n",
        "\n",
        "weight_decay = 1e-5\n",
        "dropout_rate = 0.3\n",
        "model_reg = return_reg_model(weight_decay, dropout_rate)\n",
        "\n",
        "model_reg.compile(\n",
        "    optimizer='adam',\n",
        "    loss='mse',\n",
        "    metrics=['mae']\n",
        ")\n",
        "\n",
        "history = model_reg.fit(train_data, train_target, epochs=100,\n",
        "                    validation_split=0.15, batch_size=64, verbose=False)"
      ]
    },
    {
      "cell_type": "code",
      "execution_count": null,
      "metadata": {
        "colab": {
          "base_uri": "https://localhost:8080/",
          "height": 472
        },
        "id": "w1bhwLsBV6_r",
        "outputId": "26d0a6c5-9885-4ab3-cd3d-9ae33f888be6"
      },
      "outputs": [
        {
          "data": {
            "image/png": "[encoded data removed]",
            "text/plain": [
              "<Figure size 640x480 with 1 Axes>"
            ]
          },
          "metadata": {},
          "output_type": "display_data"
        }
      ],
      "source": [
        "import matplotlib.pyplot as plt\n",
        "\n",
        "plt.plot(history.history['loss'])\n",
        "plt.plot(history.history['val_loss'])\n",
        "plt.title('Loss vs. epochs')\n",
        "plt.ylabel('Loss')\n",
        "plt.xlabel('Epoch')\n",
        "plt.legend(['Training', 'Validation'], loc='upper right')\n",
        "plt.show() # Less overfitting now."
      ]
    },
    {
      "cell_type": "markdown",
      "metadata": {
        "id": "rAkwVosoX2_d"
      },
      "source": [
        "### Callbacks\n",
        "- [Callback](https://www.tensorflow.org/api_docs/python/tf/keras/callbacks/Callback)"
      ]
    },
    {
      "cell_type": "code",
      "execution_count": null,
      "metadata": {
        "colab": {
          "base_uri": "https://localhost:8080/"
        },
        "id": "n_P7R-cOX2EL",
        "outputId": "44898a46-e121-41ff-8dd2-0353e6d48487"
      },
      "outputs": [
        {
          "name": "stdout",
          "output_type": "stream",
          "text": [
            "Starting training...\n",
            "Starting training: Epoch 0...\n",
            "Starting training: Batch 0...\n",
            "Finished training: Batch 0.\n",
            "Starting training: Batch 1...\n",
            "Finished training: Batch 1.\n",
            "Starting training: Batch 2...\n",
            "Finished training: Batch 2.\n",
            "Starting training: Batch 3...\n",
            "Finished training: Batch 3.\n",
            "Finished training: Epoch 0.\n",
            "Starting training: Epoch 1...\n",
            "Starting training: Batch 0...\n",
            "Finished training: Batch 0.\n",
            "Starting training: Batch 1...\n",
            "Finished training: Batch 1.\n",
            "Starting training: Batch 2...\n",
            "Finished training: Batch 2.\n",
            "Starting training: Batch 3...\n",
            "Finished training: Batch 3.\n",
            "Finished training: Epoch 1.\n",
            "Starting training: Epoch 2...\n",
            "Starting training: Batch 0...\n",
            "Finished training: Batch 0.\n",
            "Starting training: Batch 1...\n",
            "Finished training: Batch 1.\n",
            "Starting training: Batch 2...\n",
            "Finished training: Batch 2.\n",
            "Starting training: Batch 3...\n",
            "Finished training: Batch 3.\n",
            "Finished training: Epoch 2.\n",
            "Finished training.\n"
          ]
        },
        {
          "data": {
            "text/plain": [
              "<keras.src.callbacks.History at 0x7b9409075600>"
            ]
          },
          "execution_count": 30,
          "metadata": {},
          "output_type": "execute_result"
        }
      ],
      "source": [
        "# Here we will learn very basic ways to control the training process.\n",
        "from tensorflow.keras.callbacks import Callback # Check the link above for more details.\n",
        "\n",
        "# Customize a callback\n",
        "# We only discuss very basic callbacks here.\n",
        "class PrintCallback(Callback):\n",
        "  # These methods are overriden from the base class.\n",
        "  def on_train_begin(self, logs=None):\n",
        "    print(\"Starting training...\")\n",
        "\n",
        "  def on_train_end(self, logs=None):\n",
        "    print(\"Finished training.\")\n",
        "\n",
        "  def on_epoch_begin(self, epoch, logs=None):\n",
        "    print(f\"Starting training: Epoch {epoch}...\")\n",
        "\n",
        "  def on_epoch_end(self, epoch, logs=None):\n",
        "    print(f\"Finished training: Epoch {epoch}.\")\n",
        "\n",
        "  def on_train_batch_begin(self, batch, logs=None):\n",
        "    print(f\"Starting training: Batch {batch}...\")\n",
        "\n",
        "  def on_train_batch_end(self, batch, logs=None):\n",
        "    print(f\"Finished training: Batch {batch}.\")\n",
        "\n",
        "model.compile(optimizer='adam', loss='mse')\n",
        "model.fit(train_data, train_target,\n",
        "          epochs=3, batch_size=128,\n",
        "          verbose=False, callbacks=[PrintCallback()]) # Pass the callback to the callbacks argument. We can see the training process is controlled by the callback."
      ]
    },
    {
      "cell_type": "code",
      "execution_count": null,
      "metadata": {
        "colab": {
          "base_uri": "https://localhost:8080/"
        },
        "id": "wzjwrRt8cm97",
        "outputId": "621b264e-4c88-4c88-9d0f-7bcc5c8ba587"
      },
      "outputs": [
        {
          "name": "stdout",
          "output_type": "stream",
          "text": [
            "Starting testing...\n",
            "Starting testing: Batch 0...\n",
            "Finished testing: Batch 0.\n",
            "Starting testing: Batch 1...\n",
            "Finished testing: Batch 1.\n",
            "Finished testing.\n"
          ]
        },
        {
          "data": {
            "text/plain": [
              "0.7691945433616638"
            ]
          },
          "execution_count": 31,
          "metadata": {},
          "output_type": "execute_result"
        }
      ],
      "source": [
        "class TestCallback(Callback):\n",
        "\n",
        "  def on_test_begin(self, logs=None):\n",
        "    print(\"Starting testing...\")\n",
        "\n",
        "  def on_test_end(self, logs=None):\n",
        "    print(\"Finished testing.\")\n",
        "\n",
        "  def on_test_batch_begin(self, batch, logs=None):\n",
        "    print(f\"Starting testing: Batch {batch}...\")\n",
        "\n",
        "  def on_test_batch_end(self, batch, logs=None):\n",
        "    print(f\"Finished testing: Batch {batch}.\")\n",
        "\n",
        "model.evaluate(test_data, test_target, verbose=False, callbacks=[TestCallback()]) # Similarly, we can control the testing process by the callback."
      ]
    },
    {
      "cell_type": "code",
      "execution_count": null,
      "metadata": {
        "colab": {
          "base_uri": "https://localhost:8080/"
        },
        "id": "Vu0fMhfzdPHD",
        "outputId": "7f98e02c-1735-490a-a903-3129afc9b7c5"
      },
      "outputs": [
        {
          "name": "stdout",
          "output_type": "stream",
          "text": [
            "Starting predicting...\n",
            "Starting predicting: Batch 0...\n",
            "Finished predicting: Batch 0.\n",
            "Starting predicting: Batch 1...\n",
            "Finished predicting: Batch 1.\n",
            "Finished predicting.\n"
          ]
        },
        {
          "data": {
            "text/plain": [
              "array([[ 1.7291763 ],\n",
              "       [ 1.5043678 ],\n",
              "       [ 0.45507964],\n",
              "       [ 0.6962442 ],\n",
              "       [ 1.6054158 ],\n",
              "       [-0.5854941 ],\n",
              "       [ 0.20371087],\n",
              "       [ 0.7324006 ],\n",
              "       [-0.67208976],\n",
              "       [ 1.1110679 ],\n",
              "       [-0.5981601 ],\n",
              "       [ 0.74982506],\n",
              "       [-0.57346   ],\n",
              "       [ 1.6496239 ],\n",
              "       [-0.4098229 ],\n",
              "       [ 0.0470733 ],\n",
              "       [ 0.49551338],\n",
              "       [ 0.5003413 ],\n",
              "       [ 0.8067464 ],\n",
              "       [-0.4002813 ],\n",
              "       [-0.19058242],\n",
              "       [-0.67089367],\n",
              "       [ 1.5819683 ],\n",
              "       [-0.55236065],\n",
              "       [-0.5961629 ],\n",
              "       [ 0.80841   ],\n",
              "       [ 0.52900505],\n",
              "       [ 0.14693832],\n",
              "       [ 1.217536  ],\n",
              "       [ 1.2247186 ],\n",
              "       [ 1.0309103 ],\n",
              "       [ 1.1958643 ],\n",
              "       [-0.6196973 ],\n",
              "       [-0.23586388],\n",
              "       [ 0.55607903],\n",
              "       [ 0.8859357 ],\n",
              "       [ 0.9631322 ],\n",
              "       [ 1.6938013 ],\n",
              "       [-0.22664051],\n",
              "       [ 1.5736367 ],\n",
              "       [ 1.0555464 ],\n",
              "       [-0.65311354],\n",
              "       [ 0.22281677],\n",
              "       [ 1.3568466 ],\n",
              "       [ 0.9713486 ]], dtype=float32)"
            ]
          },
          "execution_count": 32,
          "metadata": {},
          "output_type": "execute_result"
        }
      ],
      "source": [
        "class PredictCallback(Callback):\n",
        "  def on_predict_begin(self, logs=None):\n",
        "    print(\"Starting predicting...\")\n",
        "\n",
        "  def on_predict_end(self, logs=None):\n",
        "    print(\"Finished predicting.\")\n",
        "\n",
        "  def on_predict_batch_begin(self, batch, logs=None):\n",
        "    print(f\"Starting predicting: Batch {batch}...\")\n",
        "\n",
        "  def on_predict_batch_end(self, batch, logs=None):\n",
        "    print(f\"Finished predicting: Batch {batch}.\")\n",
        "\n",
        "model.predict(test_data, verbose=False, callbacks=[PredictCallback()]) # And the prediction process."
      ]
    },
    {
      "cell_type": "markdown",
      "metadata": {
        "id": "674qPXD7dwPO"
      },
      "source": [
        "### EarlyStopping\n",
        "- [EarlyStopping](https://www.tensorflow.org/api_docs/python/tf/keras/callbacks/EarlyStopping)"
      ]
    },
    {
      "cell_type": "code",
      "execution_count": null,
      "metadata": {
        "colab": {
          "base_uri": "https://localhost:8080/"
        },
        "id": "qprSU7fqdvxR",
        "outputId": "f7107f58-8d0a-474f-9959-b45353328a64"
      },
      "outputs": [
        {
          "name": "stdout",
          "output_type": "stream",
          "text": [
            "2/2 - 0s - loss: 0.5554 - 25ms/epoch - 12ms/step\n"
          ]
        },
        {
          "data": {
            "text/plain": [
              "0.5554227828979492"
            ]
          },
          "execution_count": 33,
          "metadata": {},
          "output_type": "execute_result"
        }
      ],
      "source": [
        "from tensorflow.keras.callbacks import EarlyStopping # Check the link above for more details.\n",
        "\n",
        "model = return_model()\n",
        "\n",
        "model.compile(optimizer='adam', loss='mse')\n",
        "history = model.fit(train_data, train_target, epochs=100,\n",
        "                    validation_split=0.15, batch_size=64, verbose=False,\n",
        "                    callbacks=[EarlyStopping(patience=10)])\n",
        "model.evaluate(test_data, test_target, verbose=2)"
      ]
    },
    {
      "cell_type": "code",
      "execution_count": null,
      "metadata": {
        "colab": {
          "base_uri": "https://localhost:8080/"
        },
        "id": "Gv60saD2foX3",
        "outputId": "09a69e84-1c4f-44f9-9adf-0cf2dc9e2032"
      },
      "outputs": [
        {
          "name": "stdout",
          "output_type": "stream",
          "text": [
            "2/2 - 0s - loss: 0.5376 - 24ms/epoch - 12ms/step\n"
          ]
        },
        {
          "data": {
            "text/plain": [
              "0.5376090407371521"
            ]
          },
          "execution_count": 34,
          "metadata": {},
          "output_type": "execute_result"
        }
      ],
      "source": [
        "weight_decay = 1e-8\n",
        "dropout_rate = 0.2\n",
        "\n",
        "model_reg = return_reg_model(weight_decay, dropout_rate)\n",
        "\n",
        "model_reg.compile(optimizer='adam', loss='mse')\n",
        "history_reg = model_reg.fit(train_data, train_target, epochs=100,\n",
        "                    validation_split=0.15, batch_size=64, verbose=False,\n",
        "                    callbacks=[EarlyStopping(patience=10)]) # Apply early stopping.\n",
        "model_reg.evaluate(test_data, test_target, verbose=2)"
      ]
    },
    {
      "cell_type": "code",
      "execution_count": null,
      "metadata": {
        "colab": {
          "base_uri": "https://localhost:8080/",
          "height": 487
        },
        "id": "8Picb1IUfx1B",
        "outputId": "858e550a-cba8-46f2-dce5-60184f1247fc"
      },
      "outputs": [
        {
          "data": {
            "image/png": "[encoded data removed]",
            "text/plain": [
              "<Figure size 1200x500 with 2 Axes>"
            ]
          },
          "metadata": {},
          "output_type": "display_data"
        }
      ],
      "source": [
        "fig = plt.figure(figsize=(12, 5))\n",
        "\n",
        "fig.add_subplot(121)\n",
        "\n",
        "plt.plot(history.history['loss'])\n",
        "plt.plot(history.history['val_loss'])\n",
        "plt.title('Unregularised model: loss vs. epochs')\n",
        "plt.ylabel('Loss')\n",
        "plt.xlabel('Epoch')\n",
        "plt.legend(['Training', 'Validation'], loc='upper right')\n",
        "\n",
        "fig.add_subplot(122)\n",
        "\n",
        "plt.plot(history_reg.history['loss'])\n",
        "plt.plot(history_reg.history['val_loss'])\n",
        "plt.title('Regularised model: loss vs. epochs')\n",
        "plt.ylabel('Loss')\n",
        "plt.xlabel('Epoch')\n",
        "plt.legend(['Training', 'Validation'], loc='upper right')\n",
        "\n",
        "plt.show()"
      ]
    },
    {
      "cell_type": "markdown",
      "metadata": {
        "id": "V7K1mzTczQ8Q"
      },
      "source": [
        "## Saving and loading"
      ]
    },
    {
      "cell_type": "markdown",
      "metadata": {
        "id": "cUclt1hmzVjM"
      },
      "source": [
        "### Saving and loading model weights\n",
        "- [CIFAR10](https://www.tensorflow.org/api_docs/python/tf/keras/datasets/cifar10)\n",
        "- [ModelCheckpoint](https://www.tensorflow.org/api_docs/python/tf/keras/callbacks/ModelCheckpoint)"
      ]
    },
    {
      "cell_type": "code",
      "execution_count": null,
      "metadata": {
        "colab": {
          "base_uri": "https://localhost:8080/"
        },
        "id": "z9XVCQTGzm-Y",
        "outputId": "ad8bfb86-8920-4e69-bea9-61ead08e0452"
      },
      "outputs": [
        {
          "name": "stdout",
          "output_type": "stream",
          "text": [
            "Downloading data from https://www.cs.toronto.edu/~kriz/cifar-10-python.tar.gz\n",
            "170498071/170498071 [==============================] - 2s 0us/step\n"
          ]
        }
      ],
      "source": [
        "# In this section, we will learn how to save and load a model.\n",
        "# Specifically, we will learn how to use ModelCheckpoint to save the best model during training.\n",
        "from tensorflow.keras.datasets import cifar10\n",
        "\n",
        "# Load the CIFAR-10 dataset\n",
        "(X_train, y_train), (X_test, y_test) = cifar10.load_data()\n",
        "\n",
        "# Normalize the data\n",
        "X_train = X_train / 255.\n",
        "X_test = X_test / 255.\n",
        "\n",
        "def subset(array, sample_size):\n",
        "  return array[:sample_size]\n",
        "\n",
        "X_train = subset(X_train, 10000)\n",
        "y_train = subset(y_train, 10000)\n",
        "X_test = subset(X_test, 1000)\n",
        "y_test = subset(y_test, 1000)"
      ]
    },
    {
      "cell_type": "code",
      "execution_count": null,
      "metadata": {
        "colab": {
          "base_uri": "https://localhost:8080/",
          "height": 102
        },
        "id": "DL_w6gfE--dt",
        "outputId": "3b6e841f-4405-49a6-d16b-3a3832edef36"
      },
      "outputs": [
        {
          "data": {
            "image/png": "[encoded data removed]",
            "text/plain": [
              "<Figure size 1000x100 with 10 Axes>"
            ]
          },
          "metadata": {},
          "output_type": "display_data"
        }
      ],
      "source": [
        "import matplotlib.pyplot as plt\n",
        "\n",
        "fig, ax = plt.subplots(1, 10, figsize=(10, 1))\n",
        "for i in range(10):\n",
        "    ax[i].set_axis_off()\n",
        "    ax[i].imshow(X_train[i])"
      ]
    },
    {
      "cell_type": "code",
      "execution_count": null,
      "metadata": {
        "colab": {
          "base_uri": "https://localhost:8080/"
        },
        "id": "GfeMRz3q_XZD",
        "outputId": "811f0a35-7215-45f4-faa1-547aebda988c"
      },
      "outputs": [
        {
          "name": "stdout",
          "output_type": "stream",
          "text": [
            "Model: \"sequential_14\"\n",
            "_________________________________________________________________\n",
            " Layer (type)                Output Shape              Param #   \n",
            "=================================================================\n",
            " conv2d_4 (Conv2D)           (None, 30, 30, 16)        448       \n",
            "                                                                 \n",
            " conv2d_5 (Conv2D)           (None, 28, 28, 8)         1160      \n",
            "                                                                 \n",
            " max_pooling2d_4 (MaxPoolin  (None, 7, 7, 8)           0         \n",
            " g2D)                                                            \n",
            "                                                                 \n",
            " flatten_4 (Flatten)         (None, 392)               0         \n",
            "                                                                 \n",
            " dense_47 (Dense)            (None, 32)                12576     \n",
            "                                                                 \n",
            " dense_48 (Dense)            (None, 10)                330       \n",
            "                                                                 \n",
            "=================================================================\n",
            "Total params: 14514 (56.70 KB)\n",
            "Trainable params: 14514 (56.70 KB)\n",
            "Non-trainable params: 0 (0.00 Byte)\n",
            "_________________________________________________________________\n"
          ]
        }
      ],
      "source": [
        "from tensorflow.keras.models import Sequential\n",
        "from tensorflow.keras.layers import Flatten, Dense, Conv2D, MaxPooling2D\n",
        "\n",
        "def cifar_classifier():\n",
        "  # Construct a simple CNN architecture.\n",
        "  model = Sequential([\n",
        "      Conv2D(16, activation='relu', input_shape=(32, 32, 3), kernel_size=(3, 3)),\n",
        "      Conv2D(8, activation='relu', kernel_size=(3, 3)),\n",
        "      MaxPooling2D((4, 4)),\n",
        "      Flatten(),\n",
        "      Dense(32, activation='relu'),\n",
        "      Dense(10, activation='softmax')\n",
        "  ])\n",
        "  model.compile(optimizer='adam',\n",
        "                loss='sparse_categorical_crossentropy',\n",
        "                metrics=['accuracy'])\n",
        "  return model\n",
        "\n",
        "clf = cifar_classifier()\n",
        "clf.summary()"
      ]
    },
    {
      "cell_type": "code",
      "execution_count": null,
      "metadata": {
        "colab": {
          "base_uri": "https://localhost:8080/"
        },
        "id": "dtjAIJsfBWAW",
        "outputId": "01a431cd-f86f-467d-95f4-360989fbe810"
      },
      "outputs": [
        {
          "data": {
            "text/plain": [
              "[2.3141958713531494, 0.09799999743700027]"
            ]
          },
          "execution_count": 39,
          "metadata": {},
          "output_type": "execute_result"
        }
      ],
      "source": [
        "# Random guessing now\n",
        "clf.evaluate(X_test, y_test, verbose=0) # Accuracy should be ~10%."
      ]
    },
    {
      "cell_type": "code",
      "execution_count": null,
      "metadata": {
        "colab": {
          "base_uri": "https://localhost:8080/"
        },
        "id": "4JjI1ixeBrl1",
        "outputId": "b75fed79-a4b2-4db0-9ac9-184d34c5feee"
      },
      "outputs": [
        {
          "name": "stdout",
          "output_type": "stream",
          "text": [
            "Epoch 1/2\n",
            "312/313 [============================>.] - ETA: 0s - loss: 1.9928 - accuracy: 0.2606\n",
            "Epoch 1: saving model to model_checkpoints/checkpoint\n",
            "313/313 [==============================] - 11s 32ms/step - loss: 1.9918 - accuracy: 0.2609\n",
            "Epoch 2/2\n",
            "312/313 [============================>.] - ETA: 0s - loss: 1.6369 - accuracy: 0.4106\n",
            "Epoch 2: saving model to model_checkpoints/checkpoint\n",
            "313/313 [==============================] - 9s 30ms/step - loss: 1.6366 - accuracy: 0.4106\n"
          ]
        },
        {
          "data": {
            "text/plain": [
              "<keras.src.callbacks.History at 0x7b9429b9afb0>"
            ]
          },
          "execution_count": 40,
          "metadata": {},
          "output_type": "execute_result"
        }
      ],
      "source": [
        "from tensorflow.keras.callbacks import ModelCheckpoint\n",
        "\n",
        "checkpoint = ModelCheckpoint(filepath='model_checkpoints/checkpoint', # Save the model to this filepath\n",
        "                             frequency='epoch', # Save the model after every epoch\n",
        "                             save_weights_only=True, # Only save the weights.\n",
        "                             verbose=1)\n",
        "clf.fit(X_train, y_train, epochs=2, callbacks=[checkpoint])"
      ]
    },
    {
      "cell_type": "code",
      "execution_count": null,
      "metadata": {
        "colab": {
          "base_uri": "https://localhost:8080/"
        },
        "id": "KvPpLuquEl4D",
        "outputId": "2560680e-10a3-4157-b757-3637243e41a3"
      },
      "outputs": [
        {
          "name": "stdout",
          "output_type": "stream",
          "text": [
            "total 184K\n",
            "-rw-r--r-- 1 root root   77 Oct 20 15:03 checkpoint\n",
            "-rw-r--r-- 1 root root 174K Oct 20 15:03 checkpoint.data-00000-of-00001\n",
            "-rw-r--r-- 1 root root 1.7K Oct 20 15:03 checkpoint.index\n"
          ]
        }
      ],
      "source": [
        "# Terminal command to review the checkpoints we created just now\n",
        "! ls -lh model_checkpoints"
      ]
    },
    {
      "cell_type": "code",
      "execution_count": null,
      "metadata": {
        "colab": {
          "base_uri": "https://localhost:8080/"
        },
        "id": "w1JTx1lME0am",
        "outputId": "5d63c7ec-551b-424d-f332-d1b96b9e1296"
      },
      "outputs": [
        {
          "data": {
            "text/plain": [
              "[1.5912542343139648, 0.4309999942779541]"
            ]
          },
          "execution_count": 42,
          "metadata": {},
          "output_type": "execute_result"
        }
      ],
      "source": [
        "# Evaluate it again\n",
        "clf.evaluate(X_test, y_test, verbose=0)"
      ]
    },
    {
      "cell_type": "code",
      "execution_count": null,
      "metadata": {
        "colab": {
          "base_uri": "https://localhost:8080/"
        },
        "id": "s-pqgNtYI7Tw",
        "outputId": "1795c4c6-13b9-4398-b741-19822f78394e"
      },
      "outputs": [
        {
          "data": {
            "text/plain": [
              "[2.3858590126037598, 0.10300000011920929]"
            ]
          },
          "execution_count": 43,
          "metadata": {},
          "output_type": "execute_result"
        }
      ],
      "source": [
        "# Define a new model\n",
        "clf_new = cifar_classifier()\n",
        "clf_new.evaluate(X_test, y_test, verbose=0)"
      ]
    },
    {
      "cell_type": "code",
      "execution_count": null,
      "metadata": {
        "colab": {
          "base_uri": "https://localhost:8080/"
        },
        "id": "JO-oYdZXJLpZ",
        "outputId": "c00e16e2-4aed-41d0-baeb-48a2d352640f"
      },
      "outputs": [
        {
          "data": {
            "text/plain": [
              "[1.5912542343139648, 0.4309999942779541]"
            ]
          },
          "execution_count": 44,
          "metadata": {},
          "output_type": "execute_result"
        }
      ],
      "source": [
        "# Load the weights trained before\n",
        "clf_new.load_weights('model_checkpoints/checkpoint')\n",
        "clf_new.evaluate(X_test, y_test, verbose=0)"
      ]
    },
    {
      "cell_type": "code",
      "execution_count": null,
      "metadata": {
        "id": "iTV8hqQRJg6H"
      },
      "outputs": [],
      "source": [
        "# Terminal command to delete checkpoints we created just now\n",
        "! rm -r model_checkpoints"
      ]
    },
    {
      "cell_type": "markdown",
      "metadata": {
        "id": "CbA01J3qzekm"
      },
      "source": [
        "### Saving criteria"
      ]
    },
    {
      "cell_type": "code",
      "execution_count": null,
      "metadata": {
        "colab": {
          "base_uri": "https://localhost:8080/"
        },
        "id": "WNXgjG--zk7p",
        "outputId": "4387e663-9389-489b-8083-86c3b846e105"
      },
      "outputs": [
        {
          "name": "stdout",
          "output_type": "stream",
          "text": [
            "Epoch 1/3\n",
            " 497/1000 [=============>................] - ETA: 5s - loss: 2.0404 - accuracy: 0.2441\n",
            "Epoch 1: saving model to model_checkpoints/checkpoint_01_0500\n",
            " 995/1000 [============================>.] - ETA: 0s - loss: 1.8497 - accuracy: 0.3215\n",
            "Epoch 1: saving model to model_checkpoints/checkpoint_01_1000\n",
            "1000/1000 [==============================] - 14s 13ms/step - loss: 1.8482 - accuracy: 0.3221 - val_loss: 1.6171 - val_accuracy: 0.4210\n",
            "Epoch 2/3\n",
            " 498/1000 [=============>................] - ETA: 5s - loss: 1.5213 - accuracy: 0.4490\n",
            "Epoch 2: saving model to model_checkpoints/checkpoint_02_0500\n",
            " 999/1000 [============================>.] - ETA: 0s - loss: 1.4886 - accuracy: 0.4594\n",
            "Epoch 2: saving model to model_checkpoints/checkpoint_02_1000\n",
            "1000/1000 [==============================] - 13s 13ms/step - loss: 1.4884 - accuracy: 0.4595 - val_loss: 1.4705 - val_accuracy: 0.4800\n",
            "Epoch 3/3\n",
            " 498/1000 [=============>................] - ETA: 5s - loss: 1.3895 - accuracy: 0.4888\n",
            "Epoch 3: saving model to model_checkpoints/checkpoint_03_0500\n",
            " 997/1000 [============================>.] - ETA: 0s - loss: 1.3728 - accuracy: 0.4986\n",
            "Epoch 3: saving model to model_checkpoints/checkpoint_03_1000\n",
            "1000/1000 [==============================] - 13s 13ms/step - loss: 1.3722 - accuracy: 0.4990 - val_loss: 1.3906 - val_accuracy: 0.4970\n"
          ]
        },
        {
          "data": {
            "text/plain": [
              "<keras.src.callbacks.History at 0x7b940a8066e0>"
            ]
          },
          "execution_count": 46,
          "metadata": {},
          "output_type": "execute_result"
        }
      ],
      "source": [
        "checkpoint = ModelCheckpoint(\n",
        "    filepath='model_checkpoints/checkpoint_{epoch:02d}_{batch:04d}', # Save the model at every epoch and every batch.\n",
        "    save_weights_only=True, # Only save the weights.\n",
        "    save_freq=500, # Save the model every 500 batches.\n",
        "    verbose=1\n",
        ")\n",
        "\n",
        "clf = cifar_classifier()\n",
        "clf.fit(X_train, y_train, epochs=3,\n",
        "        validation_data=(X_test, y_test), batch_size=10,\n",
        "        callbacks=[checkpoint])"
      ]
    },
    {
      "cell_type": "code",
      "execution_count": null,
      "metadata": {
        "colab": {
          "base_uri": "https://localhost:8080/"
        },
        "id": "oDvTpa7PzlCX",
        "outputId": "8a6781e4-0536-4e5e-9908-b861f92c92fe"
      },
      "outputs": [
        {
          "name": "stdout",
          "output_type": "stream",
          "text": [
            "total 1.1M\n",
            "-rw-r--r-- 1 root root   93 Oct 20 15:04 checkpoint\n",
            "-rw-r--r-- 1 root root 174K Oct 20 15:03 checkpoint_01_0500.data-00000-of-00001\n",
            "-rw-r--r-- 1 root root 1.7K Oct 20 15:03 checkpoint_01_0500.index\n",
            "-rw-r--r-- 1 root root 174K Oct 20 15:04 checkpoint_01_1000.data-00000-of-00001\n",
            "-rw-r--r-- 1 root root 1.7K Oct 20 15:04 checkpoint_01_1000.index\n",
            "-rw-r--r-- 1 root root 174K Oct 20 15:04 checkpoint_02_0500.data-00000-of-00001\n",
            "-rw-r--r-- 1 root root 1.7K Oct 20 15:04 checkpoint_02_0500.index\n",
            "-rw-r--r-- 1 root root 174K Oct 20 15:04 checkpoint_02_1000.data-00000-of-00001\n",
            "-rw-r--r-- 1 root root 1.7K Oct 20 15:04 checkpoint_02_1000.index\n",
            "-rw-r--r-- 1 root root 174K Oct 20 15:04 checkpoint_03_0500.data-00000-of-00001\n",
            "-rw-r--r-- 1 root root 1.7K Oct 20 15:04 checkpoint_03_0500.index\n",
            "-rw-r--r-- 1 root root 174K Oct 20 15:04 checkpoint_03_1000.data-00000-of-00001\n",
            "-rw-r--r-- 1 root root 1.7K Oct 20 15:04 checkpoint_03_1000.index\n"
          ]
        }
      ],
      "source": [
        "! ls -lh model_checkpoints # List the checkpoints we created just now"
      ]
    },
    {
      "cell_type": "code",
      "execution_count": null,
      "metadata": {
        "colab": {
          "base_uri": "https://localhost:8080/"
        },
        "id": "c4eSy9ex2z9D",
        "outputId": "721ea32b-9b3b-417f-ad8c-e68c02c09d90"
      },
      "outputs": [
        {
          "name": "stdout",
          "output_type": "stream",
          "text": [
            "\n",
            "Epoch 1: val_accuracy improved from -inf to 0.24900, saving model to model_checkpoints_best/checkpoint\n",
            "\n",
            "Epoch 2: val_accuracy improved from 0.24900 to 0.36200, saving model to model_checkpoints_best/checkpoint\n",
            "\n",
            "Epoch 3: val_accuracy improved from 0.36200 to 0.40000, saving model to model_checkpoints_best/checkpoint\n",
            "\n",
            "Epoch 4: val_accuracy improved from 0.40000 to 0.41600, saving model to model_checkpoints_best/checkpoint\n",
            "\n",
            "Epoch 5: val_accuracy improved from 0.41600 to 0.42700, saving model to model_checkpoints_best/checkpoint\n",
            "\n",
            "Epoch 6: val_accuracy did not improve from 0.42700\n",
            "\n",
            "Epoch 7: val_accuracy did not improve from 0.42700\n",
            "\n",
            "Epoch 8: val_accuracy improved from 0.42700 to 0.43900, saving model to model_checkpoints_best/checkpoint\n",
            "\n",
            "Epoch 9: val_accuracy improved from 0.43900 to 0.46800, saving model to model_checkpoints_best/checkpoint\n",
            "\n",
            "Epoch 10: val_accuracy did not improve from 0.46800\n",
            "\n",
            "Epoch 11: val_accuracy improved from 0.46800 to 0.47500, saving model to model_checkpoints_best/checkpoint\n",
            "\n",
            "Epoch 12: val_accuracy did not improve from 0.47500\n",
            "\n",
            "Epoch 13: val_accuracy improved from 0.47500 to 0.49200, saving model to model_checkpoints_best/checkpoint\n",
            "\n",
            "Epoch 14: val_accuracy did not improve from 0.49200\n",
            "\n",
            "Epoch 15: val_accuracy improved from 0.49200 to 0.50000, saving model to model_checkpoints_best/checkpoint\n",
            "\n",
            "Epoch 16: val_accuracy improved from 0.50000 to 0.51000, saving model to model_checkpoints_best/checkpoint\n",
            "\n",
            "Epoch 17: val_accuracy did not improve from 0.51000\n",
            "\n",
            "Epoch 18: val_accuracy did not improve from 0.51000\n",
            "\n",
            "Epoch 19: val_accuracy improved from 0.51000 to 0.51700, saving model to model_checkpoints_best/checkpoint\n",
            "\n",
            "Epoch 20: val_accuracy did not improve from 0.51700\n"
          ]
        }
      ],
      "source": [
        "clf_best = cifar_classifier()\n",
        "checkpoint_best = ModelCheckpoint(\n",
        "    filepath='model_checkpoints_best/checkpoint', # Save the model to this filepath\n",
        "    save_weights_only=True, # Save weights only.\n",
        "    save_freq='epoch', # Save weights after every epoch.\n",
        "    monitor='val_accuracy', # Monitor `val_accuracy`\n",
        "    save_best_only=True, # Only save a model if `val_accuracy` is better than the previous best.\n",
        "    verbose=1\n",
        ")\n",
        "history = clf_best.fit(X_train, y_train, epochs=20,\n",
        "                    validation_data=(X_test, y_test), batch_size=128,\n",
        "                    callbacks=[checkpoint_best], verbose=0)"
      ]
    },
    {
      "cell_type": "code",
      "execution_count": null,
      "metadata": {
        "colab": {
          "base_uri": "https://localhost:8080/",
          "height": 448
        },
        "id": "0ZUAKYPE4EKm",
        "outputId": "8fcbd123-74c7-4df9-fe11-ef3f2a297688"
      },
      "outputs": [
        {
          "data": {
            "text/plain": [
              "<Axes: >"
            ]
          },
          "execution_count": 49,
          "metadata": {},
          "output_type": "execute_result"
        },
        {
          "data": {
            "image/png": "[encoded data removed]",
            "text/plain": [
              "<Figure size 640x480 with 1 Axes>"
            ]
          },
          "metadata": {},
          "output_type": "display_data"
        }
      ],
      "source": [
        "import pandas as pd\n",
        "\n",
        "df = pd.DataFrame(history.history)\n",
        "df.plot(y=['accuracy', 'val_accuracy'])"
      ]
    },
    {
      "cell_type": "code",
      "execution_count": null,
      "metadata": {
        "colab": {
          "base_uri": "https://localhost:8080/"
        },
        "id": "j3Rj6a9J4QCC",
        "outputId": "23c5f16e-73ab-4481-92d8-691d234e99db"
      },
      "outputs": [
        {
          "name": "stdout",
          "output_type": "stream",
          "text": [
            "total 184K\n",
            "-rw-r--r-- 1 root root   77 Oct 20 15:07 checkpoint\n",
            "-rw-r--r-- 1 root root 174K Oct 20 15:07 checkpoint.data-00000-of-00001\n",
            "-rw-r--r-- 1 root root 1.7K Oct 20 15:07 checkpoint.index\n"
          ]
        }
      ],
      "source": [
        "! ls -lh model_checkpoints_best"
      ]
    },
    {
      "cell_type": "code",
      "execution_count": null,
      "metadata": {
        "id": "y7nptdH64cGx"
      },
      "outputs": [],
      "source": [
        "! rm -r model_checkpoints # Delete the checkpoints we created just now.\n",
        "! rm -r model_checkpoints_best # Delete the checkpoints we created just now."
      ]
    },
    {
      "cell_type": "markdown",
      "metadata": {
        "id": "yuFkECl-0z_c"
      },
      "source": [
        "### Saving the entire model"
      ]
    },
    {
      "cell_type": "code",
      "execution_count": null,
      "metadata": {
        "colab": {
          "base_uri": "https://localhost:8080/"
        },
        "id": "TkHWAz9b41AS",
        "outputId": "e6f94031-1968-47cd-c608-bec08579a14e"
      },
      "outputs": [
        {
          "name": "stdout",
          "output_type": "stream",
          "text": [
            "Epoch 1/3\n",
            "312/313 [============================>.] - ETA: 0s - loss: 1.9006 - accuracy: 0.3057\n",
            "Epoch 1: saving model to model_checkpoints\n",
            "313/313 [==============================] - 12s 35ms/step - loss: 1.9004 - accuracy: 0.3059\n",
            "Epoch 2/3\n",
            "311/313 [============================>.] - ETA: 0s - loss: 1.5966 - accuracy: 0.4287\n",
            "Epoch 2: saving model to model_checkpoints\n",
            "313/313 [==============================] - 11s 34ms/step - loss: 1.5970 - accuracy: 0.4284\n",
            "Epoch 3/3\n",
            "313/313 [==============================] - ETA: 0s - loss: 1.4744 - accuracy: 0.4693\n",
            "Epoch 3: saving model to model_checkpoints\n",
            "313/313 [==============================] - 10s 33ms/step - loss: 1.4744 - accuracy: 0.4693\n"
          ]
        },
        {
          "data": {
            "text/plain": [
              "<keras.src.callbacks.History at 0x7b9408f42c80>"
            ]
          },
          "execution_count": 52,
          "metadata": {},
          "output_type": "execute_result"
        }
      ],
      "source": [
        "checkpoint = ModelCheckpoint(\n",
        "    filepath='model_checkpoints', # Save the model itself to the filepath.\n",
        "    save_weights_only=False, # Save the entire model instead of just the weights.\n",
        "    frequency='epoch', # Save the model after every epoch.\n",
        "    verbose=1\n",
        ")\n",
        "\n",
        "clf = cifar_classifier()\n",
        "clf.fit(X_train, y_train, epochs=3, callbacks=[checkpoint]) # Save the model itself every epoch."
      ]
    },
    {
      "cell_type": "code",
      "execution_count": null,
      "metadata": {
        "colab": {
          "base_uri": "https://localhost:8080/"
        },
        "id": "Gv7gPw9N5uTU",
        "outputId": "e95258be-deb4-4382-b083-008032c8b04b"
      },
      "outputs": [
        {
          "name": "stdout",
          "output_type": "stream",
          "text": [
            "total 152K\n",
            "drwxr-xr-x 2 root root 4.0K Oct 20 15:07 assets\n",
            "-rw-r--r-- 1 root root   58 Oct 20 15:07 fingerprint.pb\n",
            "-rw-r--r-- 1 root root  15K Oct 20 15:07 keras_metadata.pb\n",
            "-rw-r--r-- 1 root root 124K Oct 20 15:07 saved_model.pb\n",
            "drwxr-xr-x 2 root root 4.0K Oct 20 15:07 variables\n"
          ]
        }
      ],
      "source": [
        "! ls -lh model_checkpoints"
      ]
    },
    {
      "cell_type": "code",
      "execution_count": null,
      "metadata": {
        "colab": {
          "base_uri": "https://localhost:8080/"
        },
        "id": "E2NWtSO25xSV",
        "outputId": "23f3f44a-83ec-4c82-d587-281e80e8aae5"
      },
      "outputs": [
        {
          "name": "stdout",
          "output_type": "stream",
          "text": [
            "total 184K\n",
            "-rw-r--r-- 1 root root 178K Oct 20 15:07 variables.data-00000-of-00001\n",
            "-rw-r--r-- 1 root root 1.9K Oct 20 15:07 variables.index\n"
          ]
        }
      ],
      "source": [
        "! ls -lh model_checkpoints/variables"
      ]
    },
    {
      "cell_type": "code",
      "execution_count": null,
      "metadata": {
        "colab": {
          "base_uri": "https://localhost:8080/"
        },
        "id": "oeoOC1Iq50bO",
        "outputId": "75c2ddd8-ecd0-4900-fab1-e4ad66fb7482"
      },
      "outputs": [
        {
          "data": {
            "text/plain": [
              "[1.4820014238357544, 0.48399999737739563]"
            ]
          },
          "execution_count": 55,
          "metadata": {},
          "output_type": "execute_result"
        }
      ],
      "source": [
        "clf.evaluate(X_test, y_test, verbose=0)"
      ]
    },
    {
      "cell_type": "code",
      "execution_count": null,
      "metadata": {
        "colab": {
          "base_uri": "https://localhost:8080/"
        },
        "id": "yIbd3mTf58oM",
        "outputId": "a48fecad-993c-41f8-e4c1-58cbbe43046f"
      },
      "outputs": [
        {
          "data": {
            "text/plain": [
              "[2.3320820331573486, 0.08799999952316284]"
            ]
          },
          "execution_count": 56,
          "metadata": {},
          "output_type": "execute_result"
        }
      ],
      "source": [
        "from tensorflow.keras.models import load_model\n",
        "\n",
        "del clf # Delete the model\n",
        "\n",
        "clf = cifar_classifier() # Create a new classifier\n",
        "clf.evaluate(X_test, y_test, verbose=0) # Obviously, the untrained model performs poorly."
      ]
    },
    {
      "cell_type": "code",
      "execution_count": null,
      "metadata": {
        "colab": {
          "base_uri": "https://localhost:8080/"
        },
        "id": "9hTEOkZB6nRv",
        "outputId": "c6fcb9b8-c798-4d5e-e2d7-f8cf92b406e6"
      },
      "outputs": [
        {
          "data": {
            "text/plain": [
              "[1.4820014238357544, 0.48399999737739563]"
            ]
          },
          "execution_count": 57,
          "metadata": {},
          "output_type": "execute_result"
        }
      ],
      "source": [
        "del clf # Delete the model so that we can check if the loaded model is correct.\n",
        "clf = load_model('model_checkpoints') # Load the model from the checkpoint file.\n",
        "clf.evaluate(X_test, y_test, verbose=0) # When we load the model, we can see that the model performs well. And the metrics are the same as before."
      ]
    },
    {
      "cell_type": "code",
      "execution_count": null,
      "metadata": {
        "colab": {
          "base_uri": "https://localhost:8080/"
        },
        "id": "M2a3w-A_60FH",
        "outputId": "afdc2d4f-a51f-483b-8e1b-34d41ec37985"
      },
      "outputs": [
        {
          "name": "stderr",
          "output_type": "stream",
          "text": [
            "/usr/local/lib/python3.10/dist-packages/keras/src/engine/training.py:3000: UserWarning: You are saving your model as an HDF5 file via `model.save()`. This file format is considered legacy. We recommend using instead the native Keras format, e.g. `model.save('my_model.keras')`.\n",
            "  saving_api.save_model(\n"
          ]
        }
      ],
      "source": [
        "clf.save('classifier.h5') # Save the model as a .h5 file. .h5 is the default format for Keras models."
      ]
    },
    {
      "cell_type": "code",
      "execution_count": null,
      "metadata": {
        "colab": {
          "base_uri": "https://localhost:8080/"
        },
        "id": "gvWGuptl69H0",
        "outputId": "134c4d84-2da5-4d48-abe1-1c699439cd18"
      },
      "outputs": [
        {
          "name": "stdout",
          "output_type": "stream",
          "text": [
            "32/32 [==============================] - 0s 9ms/step - loss: 1.4820 - accuracy: 0.4840\n"
          ]
        },
        {
          "data": {
            "text/plain": [
              "[1.4820014238357544, 0.48399999737739563]"
            ]
          },
          "execution_count": 59,
          "metadata": {},
          "output_type": "execute_result"
        }
      ],
      "source": [
        "del clf # Delete the existing model so that we can check if the loaded model is correct.\n",
        "\n",
        "clf = load_model('classifier.h5')\n",
        "clf.evaluate(X_test, y_test, verbose=1)"
      ]
    },
    {
      "cell_type": "markdown",
      "metadata": {
        "id": "PDgRCvy503ob"
      },
      "source": [
        "### Loading pre-trained models"
      ]
    },
    {
      "cell_type": "code",
      "execution_count": null,
      "metadata": {
        "colab": {
          "base_uri": "https://localhost:8080/"
        },
        "id": "QsoRPAwr41mP",
        "outputId": "94606a59-8627-4ae5-a1d5-0c50da4059a8"
      },
      "outputs": [
        {
          "name": "stdout",
          "output_type": "stream",
          "text": [
            "Downloading data from https://storage.googleapis.com/tensorflow/keras-applications/resnet/resnet50_weights_tf_dim_ordering_tf_kernels.h5\n",
            "102967424/102967424 [==============================] - 1s 0us/step\n",
            "Model: \"resnet50\"\n",
            "__________________________________________________________________________________________________\n",
            " Layer (type)                Output Shape                 Param #   Connected to                  \n",
            "==================================================================================================\n",
            " input_1 (InputLayer)        [(None, 224, 224, 3)]        0         []                            \n",
            "                                                                                                  \n",
            " conv1_pad (ZeroPadding2D)   (None, 230, 230, 3)          0         ['input_1[0][0]']             \n",
            "                                                                                                  \n",
            " conv1_conv (Conv2D)         (None, 112, 112, 64)         9472      ['conv1_pad[0][0]']           \n",
            "                                                                                                  \n",
            " conv1_bn (BatchNormalizati  (None, 112, 112, 64)         256       ['conv1_conv[0][0]']          \n",
            " on)                                                                                              \n",
            "                                                                                                  \n",
            " conv1_relu (Activation)     (None, 112, 112, 64)         0         ['conv1_bn[0][0]']            \n",
            "                                                                                                  \n",
            " pool1_pad (ZeroPadding2D)   (None, 114, 114, 64)         0         ['conv1_relu[0][0]']          \n",
            "                                                                                                  \n",
            " pool1_pool (MaxPooling2D)   (None, 56, 56, 64)           0         ['pool1_pad[0][0]']           \n",
            "                                                                                                  \n",
            " conv2_block1_1_conv (Conv2  (None, 56, 56, 64)           4160      ['pool1_pool[0][0]']          \n",
            " D)                                                                                               \n",
            "                                                                                                  \n",
            " conv2_block1_1_bn (BatchNo  (None, 56, 56, 64)           256       ['conv2_block1_1_conv[0][0]'] \n",
            " rmalization)                                                                                     \n",
            "                                                                                                  \n",
            " conv2_block1_1_relu (Activ  (None, 56, 56, 64)           0         ['conv2_block1_1_bn[0][0]']   \n",
            " ation)                                                                                           \n",
            "                                                                                                  \n",
            " conv2_block1_2_conv (Conv2  (None, 56, 56, 64)           36928     ['conv2_block1_1_relu[0][0]'] \n",
            " D)                                                                                               \n",
            "                                                                                                  \n",
            " conv2_block1_2_bn (BatchNo  (None, 56, 56, 64)           256       ['conv2_block1_2_conv[0][0]'] \n",
            " rmalization)                                                                                     \n",
            "                                                                                                  \n",
            " conv2_block1_2_relu (Activ  (None, 56, 56, 64)           0         ['conv2_block1_2_bn[0][0]']   \n",
            " ation)                                                                                           \n",
            "                                                                                                  \n",
            " conv2_block1_0_conv (Conv2  (None, 56, 56, 256)          16640     ['pool1_pool[0][0]']          \n",
            " D)                                                                                               \n",
            "                                                                                                  \n",
            " conv2_block1_3_conv (Conv2  (None, 56, 56, 256)          16640     ['conv2_block1_2_relu[0][0]'] \n",
            " D)                                                                                               \n",
            "                                                                                                  \n",
            " conv2_block1_0_bn (BatchNo  (None, 56, 56, 256)          1024      ['conv2_block1_0_conv[0][0]'] \n",
            " rmalization)                                                                                     \n",
            "                                                                                                  \n",
            " conv2_block1_3_bn (BatchNo  (None, 56, 56, 256)          1024      ['conv2_block1_3_conv[0][0]'] \n",
            " rmalization)                                                                                     \n",
            "                                                                                                  \n",
            " conv2_block1_add (Add)      (None, 56, 56, 256)          0         ['conv2_block1_0_bn[0][0]',   \n",
            "                                                                     'conv2_block1_3_bn[0][0]']   \n",
            "                                                                                                  \n",
            " conv2_block1_out (Activati  (None, 56, 56, 256)          0         ['conv2_block1_add[0][0]']    \n",
            " on)                                                                                              \n",
            "                                                                                                  \n",
            " conv2_block2_1_conv (Conv2  (None, 56, 56, 64)           16448     ['conv2_block1_out[0][0]']    \n",
            " D)                                                                                               \n",
            "                                                                                                  \n",
            " conv2_block2_1_bn (BatchNo  (None, 56, 56, 64)           256       ['conv2_block2_1_conv[0][0]'] \n",
            " rmalization)                                                                                     \n",
            "                                                                                                  \n",
            " conv2_block2_1_relu (Activ  (None, 56, 56, 64)           0         ['conv2_block2_1_bn[0][0]']   \n",
            " ation)                                                                                           \n",
            "                                                                                                  \n",
            " conv2_block2_2_conv (Conv2  (None, 56, 56, 64)           36928     ['conv2_block2_1_relu[0][0]'] \n",
            " D)                                                                                               \n",
            "                                                                                                  \n",
            " conv2_block2_2_bn (BatchNo  (None, 56, 56, 64)           256       ['conv2_block2_2_conv[0][0]'] \n",
            " rmalization)                                                                                     \n",
            "                                                                                                  \n",
            " conv2_block2_2_relu (Activ  (None, 56, 56, 64)           0         ['conv2_block2_2_bn[0][0]']   \n",
            " ation)                                                                                           \n",
            "                                                                                                  \n",
            " conv2_block2_3_conv (Conv2  (None, 56, 56, 256)          16640     ['conv2_block2_2_relu[0][0]'] \n",
            " D)                                                                                               \n",
            "                                                                                                  \n",
            " conv2_block2_3_bn (BatchNo  (None, 56, 56, 256)          1024      ['conv2_block2_3_conv[0][0]'] \n",
            " rmalization)                                                                                     \n",
            "                                                                                                  \n",
            " conv2_block2_add (Add)      (None, 56, 56, 256)          0         ['conv2_block1_out[0][0]',    \n",
            "                                                                     'conv2_block2_3_bn[0][0]']   \n",
            "                                                                                                  \n",
            " conv2_block2_out (Activati  (None, 56, 56, 256)          0         ['conv2_block2_add[0][0]']    \n",
            " on)                                                                                              \n",
            "                                                                                                  \n",
            " conv2_block3_1_conv (Conv2  (None, 56, 56, 64)           16448     ['conv2_block2_out[0][0]']    \n",
            " D)                                                                                               \n",
            "                                                                                                  \n",
            " conv2_block3_1_bn (BatchNo  (None, 56, 56, 64)           256       ['conv2_block3_1_conv[0][0]'] \n",
            " rmalization)                                                                                     \n",
            "                                                                                                  \n",
            " conv2_block3_1_relu (Activ  (None, 56, 56, 64)           0         ['conv2_block3_1_bn[0][0]']   \n",
            " ation)                                                                                           \n",
            "                                                                                                  \n",
            " conv2_block3_2_conv (Conv2  (None, 56, 56, 64)           36928     ['conv2_block3_1_relu[0][0]'] \n",
            " D)                                                                                               \n",
            "                                                                                                  \n",
            " conv2_block3_2_bn (BatchNo  (None, 56, 56, 64)           256       ['conv2_block3_2_conv[0][0]'] \n",
            " rmalization)                                                                                     \n",
            "                                                                                                  \n",
            " conv2_block3_2_relu (Activ  (None, 56, 56, 64)           0         ['conv2_block3_2_bn[0][0]']   \n",
            " ation)                                                                                           \n",
            "                                                                                                  \n",
            " conv2_block3_3_conv (Conv2  (None, 56, 56, 256)          16640     ['conv2_block3_2_relu[0][0]'] \n",
            " D)                                                                                               \n",
            "                                                                                                  \n",
            " conv2_block3_3_bn (BatchNo  (None, 56, 56, 256)          1024      ['conv2_block3_3_conv[0][0]'] \n",
            " rmalization)                                                                                     \n",
            "                                                                                                  \n",
            " conv2_block3_add (Add)      (None, 56, 56, 256)          0         ['conv2_block2_out[0][0]',    \n",
            "                                                                     'conv2_block3_3_bn[0][0]']   \n",
            "                                                                                                  \n",
            " conv2_block3_out (Activati  (None, 56, 56, 256)          0         ['conv2_block3_add[0][0]']    \n",
            " on)                                                                                              \n",
            "                                                                                                  \n",
            " conv3_block1_1_conv (Conv2  (None, 28, 28, 128)          32896     ['conv2_block3_out[0][0]']    \n",
            " D)                                                                                               \n",
            "                                                                                                  \n",
            " conv3_block1_1_bn (BatchNo  (None, 28, 28, 128)          512       ['conv3_block1_1_conv[0][0]'] \n",
            " rmalization)                                                                                     \n",
            "                                                                                                  \n",
            " conv3_block1_1_relu (Activ  (None, 28, 28, 128)          0         ['conv3_block1_1_bn[0][0]']   \n",
            " ation)                                                                                           \n",
            "                                                                                                  \n",
            " conv3_block1_2_conv (Conv2  (None, 28, 28, 128)          147584    ['conv3_block1_1_relu[0][0]'] \n",
            " D)                                                                                               \n",
            "                                                                                                  \n",
            " conv3_block1_2_bn (BatchNo  (None, 28, 28, 128)          512       ['conv3_block1_2_conv[0][0]'] \n",
            " rmalization)                                                                                     \n",
            "                                                                                                  \n",
            " conv3_block1_2_relu (Activ  (None, 28, 28, 128)          0         ['conv3_block1_2_bn[0][0]']   \n",
            " ation)                                                                                           \n",
            "                                                                                                  \n",
            " conv3_block1_0_conv (Conv2  (None, 28, 28, 512)          131584    ['conv2_block3_out[0][0]']    \n",
            " D)                                                                                               \n",
            "                                                                                                  \n",
            " conv3_block1_3_conv (Conv2  (None, 28, 28, 512)          66048     ['conv3_block1_2_relu[0][0]'] \n",
            " D)                                                                                               \n",
            "                                                                                                  \n",
            " conv3_block1_0_bn (BatchNo  (None, 28, 28, 512)          2048      ['conv3_block1_0_conv[0][0]'] \n",
            " rmalization)                                                                                     \n",
            "                                                                                                  \n",
            " conv3_block1_3_bn (BatchNo  (None, 28, 28, 512)          2048      ['conv3_block1_3_conv[0][0]'] \n",
            " rmalization)                                                                                     \n",
            "                                                                                                  \n",
            " conv3_block1_add (Add)      (None, 28, 28, 512)          0         ['conv3_block1_0_bn[0][0]',   \n",
            "                                                                     'conv3_block1_3_bn[0][0]']   \n",
            "                                                                                                  \n",
            " conv3_block1_out (Activati  (None, 28, 28, 512)          0         ['conv3_block1_add[0][0]']    \n",
            " on)                                                                                              \n",
            "                                                                                                  \n",
            " conv3_block2_1_conv (Conv2  (None, 28, 28, 128)          65664     ['conv3_block1_out[0][0]']    \n",
            " D)                                                                                               \n",
            "                                                                                                  \n",
            " conv3_block2_1_bn (BatchNo  (None, 28, 28, 128)          512       ['conv3_block2_1_conv[0][0]'] \n",
            " rmalization)                                                                                     \n",
            "                                                                                                  \n",
            " conv3_block2_1_relu (Activ  (None, 28, 28, 128)          0         ['conv3_block2_1_bn[0][0]']   \n",
            " ation)                                                                                           \n",
            "                                                                                                  \n",
            " conv3_block2_2_conv (Conv2  (None, 28, 28, 128)          147584    ['conv3_block2_1_relu[0][0]'] \n",
            " D)                                                                                               \n",
            "                                                                                                  \n",
            " conv3_block2_2_bn (BatchNo  (None, 28, 28, 128)          512       ['conv3_block2_2_conv[0][0]'] \n",
            " rmalization)                                                                                     \n",
            "                                                                                                  \n",
            " conv3_block2_2_relu (Activ  (None, 28, 28, 128)          0         ['conv3_block2_2_bn[0][0]']   \n",
            " ation)                                                                                           \n",
            "                                                                                                  \n",
            " conv3_block2_3_conv (Conv2  (None, 28, 28, 512)          66048     ['conv3_block2_2_relu[0][0]'] \n",
            " D)                                                                                               \n",
            "                                                                                                  \n",
            " conv3_block2_3_bn (BatchNo  (None, 28, 28, 512)          2048      ['conv3_block2_3_conv[0][0]'] \n",
            " rmalization)                                                                                     \n",
            "                                                                                                  \n",
            " conv3_block2_add (Add)      (None, 28, 28, 512)          0         ['conv3_block1_out[0][0]',    \n",
            "                                                                     'conv3_block2_3_bn[0][0]']   \n",
            "                                                                                                  \n",
            " conv3_block2_out (Activati  (None, 28, 28, 512)          0         ['conv3_block2_add[0][0]']    \n",
            " on)                                                                                              \n",
            "                                                                                                  \n",
            " conv3_block3_1_conv (Conv2  (None, 28, 28, 128)          65664     ['conv3_block2_out[0][0]']    \n",
            " D)                                                                                               \n",
            "                                                                                                  \n",
            " conv3_block3_1_bn (BatchNo  (None, 28, 28, 128)          512       ['conv3_block3_1_conv[0][0]'] \n",
            " rmalization)                                                                                     \n",
            "                                                                                                  \n",
            " conv3_block3_1_relu (Activ  (None, 28, 28, 128)          0         ['conv3_block3_1_bn[0][0]']   \n",
            " ation)                                                                                           \n",
            "                                                                                                  \n",
            " conv3_block3_2_conv (Conv2  (None, 28, 28, 128)          147584    ['conv3_block3_1_relu[0][0]'] \n",
            " D)                                                                                               \n",
            "                                                                                                  \n",
            " conv3_block3_2_bn (BatchNo  (None, 28, 28, 128)          512       ['conv3_block3_2_conv[0][0]'] \n",
            " rmalization)                                                                                     \n",
            "                                                                                                  \n",
            " conv3_block3_2_relu (Activ  (None, 28, 28, 128)          0         ['conv3_block3_2_bn[0][0]']   \n",
            " ation)                                                                                           \n",
            "                                                                                                  \n",
            " conv3_block3_3_conv (Conv2  (None, 28, 28, 512)          66048     ['conv3_block3_2_relu[0][0]'] \n",
            " D)                                                                                               \n",
            "                                                                                                  \n",
            " conv3_block3_3_bn (BatchNo  (None, 28, 28, 512)          2048      ['conv3_block3_3_conv[0][0]'] \n",
            " rmalization)                                                                                     \n",
            "                                                                                                  \n",
            " conv3_block3_add (Add)      (None, 28, 28, 512)          0         ['conv3_block2_out[0][0]',    \n",
            "                                                                     'conv3_block3_3_bn[0][0]']   \n",
            "                                                                                                  \n",
            " conv3_block3_out (Activati  (None, 28, 28, 512)          0         ['conv3_block3_add[0][0]']    \n",
            " on)                                                                                              \n",
            "                                                                                                  \n",
            " conv3_block4_1_conv (Conv2  (None, 28, 28, 128)          65664     ['conv3_block3_out[0][0]']    \n",
            " D)                                                                                               \n",
            "                                                                                                  \n",
            " conv3_block4_1_bn (BatchNo  (None, 28, 28, 128)          512       ['conv3_block4_1_conv[0][0]'] \n",
            " rmalization)                                                                                     \n",
            "                                                                                                  \n",
            " conv3_block4_1_relu (Activ  (None, 28, 28, 128)          0         ['conv3_block4_1_bn[0][0]']   \n",
            " ation)                                                                                           \n",
            "                                                                                                  \n",
            " conv3_block4_2_conv (Conv2  (None, 28, 28, 128)          147584    ['conv3_block4_1_relu[0][0]'] \n",
            " D)                                                                                               \n",
            "                                                                                                  \n",
            " conv3_block4_2_bn (BatchNo  (None, 28, 28, 128)          512       ['conv3_block4_2_conv[0][0]'] \n",
            " rmalization)                                                                                     \n",
            "                                                                                                  \n",
            " conv3_block4_2_relu (Activ  (None, 28, 28, 128)          0         ['conv3_block4_2_bn[0][0]']   \n",
            " ation)                                                                                           \n",
            "                                                                                                  \n",
            " conv3_block4_3_conv (Conv2  (None, 28, 28, 512)          66048     ['conv3_block4_2_relu[0][0]'] \n",
            " D)                                                                                               \n",
            "                                                                                                  \n",
            " conv3_block4_3_bn (BatchNo  (None, 28, 28, 512)          2048      ['conv3_block4_3_conv[0][0]'] \n",
            " rmalization)                                                                                     \n",
            "                                                                                                  \n",
            " conv3_block4_add (Add)      (None, 28, 28, 512)          0         ['conv3_block3_out[0][0]',    \n",
            "                                                                     'conv3_block4_3_bn[0][0]']   \n",
            "                                                                                                  \n",
            " conv3_block4_out (Activati  (None, 28, 28, 512)          0         ['conv3_block4_add[0][0]']    \n",
            " on)                                                                                              \n",
            "                                                                                                  \n",
            " conv4_block1_1_conv (Conv2  (None, 14, 14, 256)          131328    ['conv3_block4_out[0][0]']    \n",
            " D)                                                                                               \n",
            "                                                                                                  \n",
            " conv4_block1_1_bn (BatchNo  (None, 14, 14, 256)          1024      ['conv4_block1_1_conv[0][0]'] \n",
            " rmalization)                                                                                     \n",
            "                                                                                                  \n",
            " conv4_block1_1_relu (Activ  (None, 14, 14, 256)          0         ['conv4_block1_1_bn[0][0]']   \n",
            " ation)                                                                                           \n",
            "                                                                                                  \n",
            " conv4_block1_2_conv (Conv2  (None, 14, 14, 256)          590080    ['conv4_block1_1_relu[0][0]'] \n",
            " D)                                                                                               \n",
            "                                                                                                  \n",
            " conv4_block1_2_bn (BatchNo  (None, 14, 14, 256)          1024      ['conv4_block1_2_conv[0][0]'] \n",
            " rmalization)                                                                                     \n",
            "                                                                                                  \n",
            " conv4_block1_2_relu (Activ  (None, 14, 14, 256)          0         ['conv4_block1_2_bn[0][0]']   \n",
            " ation)                                                                                           \n",
            "                                                                                                  \n",
            " conv4_block1_0_conv (Conv2  (None, 14, 14, 1024)         525312    ['conv3_block4_out[0][0]']    \n",
            " D)                                                                                               \n",
            "                                                                                                  \n",
            " conv4_block1_3_conv (Conv2  (None, 14, 14, 1024)         263168    ['conv4_block1_2_relu[0][0]'] \n",
            " D)                                                                                               \n",
            "                                                                                                  \n",
            " conv4_block1_0_bn (BatchNo  (None, 14, 14, 1024)         4096      ['conv4_block1_0_conv[0][0]'] \n",
            " rmalization)                                                                                     \n",
            "                                                                                                  \n",
            " conv4_block1_3_bn (BatchNo  (None, 14, 14, 1024)         4096      ['conv4_block1_3_conv[0][0]'] \n",
            " rmalization)                                                                                     \n",
            "                                                                                                  \n",
            " conv4_block1_add (Add)      (None, 14, 14, 1024)         0         ['conv4_block1_0_bn[0][0]',   \n",
            "                                                                     'conv4_block1_3_bn[0][0]']   \n",
            "                                                                                                  \n",
            " conv4_block1_out (Activati  (None, 14, 14, 1024)         0         ['conv4_block1_add[0][0]']    \n",
            " on)                                                                                              \n",
            "                                                                                                  \n",
            " conv4_block2_1_conv (Conv2  (None, 14, 14, 256)          262400    ['conv4_block1_out[0][0]']    \n",
            " D)                                                                                               \n",
            "                                                                                                  \n",
            " conv4_block2_1_bn (BatchNo  (None, 14, 14, 256)          1024      ['conv4_block2_1_conv[0][0]'] \n",
            " rmalization)                                                                                     \n",
            "                                                                                                  \n",
            " conv4_block2_1_relu (Activ  (None, 14, 14, 256)          0         ['conv4_block2_1_bn[0][0]']   \n",
            " ation)                                                                                           \n",
            "                                                                                                  \n",
            " conv4_block2_2_conv (Conv2  (None, 14, 14, 256)          590080    ['conv4_block2_1_relu[0][0]'] \n",
            " D)                                                                                               \n",
            "                                                                                                  \n",
            " conv4_block2_2_bn (BatchNo  (None, 14, 14, 256)          1024      ['conv4_block2_2_conv[0][0]'] \n",
            " rmalization)                                                                                     \n",
            "                                                                                                  \n",
            " conv4_block2_2_relu (Activ  (None, 14, 14, 256)          0         ['conv4_block2_2_bn[0][0]']   \n",
            " ation)                                                                                           \n",
            "                                                                                                  \n",
            " conv4_block2_3_conv (Conv2  (None, 14, 14, 1024)         263168    ['conv4_block2_2_relu[0][0]'] \n",
            " D)                                                                                               \n",
            "                                                                                                  \n",
            " conv4_block2_3_bn (BatchNo  (None, 14, 14, 1024)         4096      ['conv4_block2_3_conv[0][0]'] \n",
            " rmalization)                                                                                     \n",
            "                                                                                                  \n",
            " conv4_block2_add (Add)      (None, 14, 14, 1024)         0         ['conv4_block1_out[0][0]',    \n",
            "                                                                     'conv4_block2_3_bn[0][0]']   \n",
            "                                                                                                  \n",
            " conv4_block2_out (Activati  (None, 14, 14, 1024)         0         ['conv4_block2_add[0][0]']    \n",
            " on)                                                                                              \n",
            "                                                                                                  \n",
            " conv4_block3_1_conv (Conv2  (None, 14, 14, 256)          262400    ['conv4_block2_out[0][0]']    \n",
            " D)                                                                                               \n",
            "                                                                                                  \n",
            " conv4_block3_1_bn (BatchNo  (None, 14, 14, 256)          1024      ['conv4_block3_1_conv[0][0]'] \n",
            " rmalization)                                                                                     \n",
            "                                                                                                  \n",
            " conv4_block3_1_relu (Activ  (None, 14, 14, 256)          0         ['conv4_block3_1_bn[0][0]']   \n",
            " ation)                                                                                           \n",
            "                                                                                                  \n",
            " conv4_block3_2_conv (Conv2  (None, 14, 14, 256)          590080    ['conv4_block3_1_relu[0][0]'] \n",
            " D)                                                                                               \n",
            "                                                                                                  \n",
            " conv4_block3_2_bn (BatchNo  (None, 14, 14, 256)          1024      ['conv4_block3_2_conv[0][0]'] \n",
            " rmalization)                                                                                     \n",
            "                                                                                                  \n",
            " conv4_block3_2_relu (Activ  (None, 14, 14, 256)          0         ['conv4_block3_2_bn[0][0]']   \n",
            " ation)                                                                                           \n",
            "                                                                                                  \n",
            " conv4_block3_3_conv (Conv2  (None, 14, 14, 1024)         263168    ['conv4_block3_2_relu[0][0]'] \n",
            " D)                                                                                               \n",
            "                                                                                                  \n",
            " conv4_block3_3_bn (BatchNo  (None, 14, 14, 1024)         4096      ['conv4_block3_3_conv[0][0]'] \n",
            " rmalization)                                                                                     \n",
            "                                                                                                  \n",
            " conv4_block3_add (Add)      (None, 14, 14, 1024)         0         ['conv4_block2_out[0][0]',    \n",
            "                                                                     'conv4_block3_3_bn[0][0]']   \n",
            "                                                                                                  \n",
            " conv4_block3_out (Activati  (None, 14, 14, 1024)         0         ['conv4_block3_add[0][0]']    \n",
            " on)                                                                                              \n",
            "                                                                                                  \n",
            " conv4_block4_1_conv (Conv2  (None, 14, 14, 256)          262400    ['conv4_block3_out[0][0]']    \n",
            " D)                                                                                               \n",
            "                                                                                                  \n",
            " conv4_block4_1_bn (BatchNo  (None, 14, 14, 256)          1024      ['conv4_block4_1_conv[0][0]'] \n",
            " rmalization)                                                                                     \n",
            "                                                                                                  \n",
            " conv4_block4_1_relu (Activ  (None, 14, 14, 256)          0         ['conv4_block4_1_bn[0][0]']   \n",
            " ation)                                                                                           \n",
            "                                                                                                  \n",
            " conv4_block4_2_conv (Conv2  (None, 14, 14, 256)          590080    ['conv4_block4_1_relu[0][0]'] \n",
            " D)                                                                                               \n",
            "                                                                                                  \n",
            " conv4_block4_2_bn (BatchNo  (None, 14, 14, 256)          1024      ['conv4_block4_2_conv[0][0]'] \n",
            " rmalization)                                                                                     \n",
            "                                                                                                  \n",
            " conv4_block4_2_relu (Activ  (None, 14, 14, 256)          0         ['conv4_block4_2_bn[0][0]']   \n",
            " ation)                                                                                           \n",
            "                                                                                                  \n",
            " conv4_block4_3_conv (Conv2  (None, 14, 14, 1024)         263168    ['conv4_block4_2_relu[0][0]'] \n",
            " D)                                                                                               \n",
            "                                                                                                  \n",
            " conv4_block4_3_bn (BatchNo  (None, 14, 14, 1024)         4096      ['conv4_block4_3_conv[0][0]'] \n",
            " rmalization)                                                                                     \n",
            "                                                                                                  \n",
            " conv4_block4_add (Add)      (None, 14, 14, 1024)         0         ['conv4_block3_out[0][0]',    \n",
            "                                                                     'conv4_block4_3_bn[0][0]']   \n",
            "                                                                                                  \n",
            " conv4_block4_out (Activati  (None, 14, 14, 1024)         0         ['conv4_block4_add[0][0]']    \n",
            " on)                                                                                              \n",
            "                                                                                                  \n",
            " conv4_block5_1_conv (Conv2  (None, 14, 14, 256)          262400    ['conv4_block4_out[0][0]']    \n",
            " D)                                                                                               \n",
            "                                                                                                  \n",
            " conv4_block5_1_bn (BatchNo  (None, 14, 14, 256)          1024      ['conv4_block5_1_conv[0][0]'] \n",
            " rmalization)                                                                                     \n",
            "                                                                                                  \n",
            " conv4_block5_1_relu (Activ  (None, 14, 14, 256)          0         ['conv4_block5_1_bn[0][0]']   \n",
            " ation)                                                                                           \n",
            "                                                                                                  \n",
            " conv4_block5_2_conv (Conv2  (None, 14, 14, 256)          590080    ['conv4_block5_1_relu[0][0]'] \n",
            " D)                                                                                               \n",
            "                                                                                                  \n",
            " conv4_block5_2_bn (BatchNo  (None, 14, 14, 256)          1024      ['conv4_block5_2_conv[0][0]'] \n",
            " rmalization)                                                                                     \n",
            "                                                                                                  \n",
            " conv4_block5_2_relu (Activ  (None, 14, 14, 256)          0         ['conv4_block5_2_bn[0][0]']   \n",
            " ation)                                                                                           \n",
            "                                                                                                  \n",
            " conv4_block5_3_conv (Conv2  (None, 14, 14, 1024)         263168    ['conv4_block5_2_relu[0][0]'] \n",
            " D)                                                                                               \n",
            "                                                                                                  \n",
            " conv4_block5_3_bn (BatchNo  (None, 14, 14, 1024)         4096      ['conv4_block5_3_conv[0][0]'] \n",
            " rmalization)                                                                                     \n",
            "                                                                                                  \n",
            " conv4_block5_add (Add)      (None, 14, 14, 1024)         0         ['conv4_block4_out[0][0]',    \n",
            "                                                                     'conv4_block5_3_bn[0][0]']   \n",
            "                                                                                                  \n",
            " conv4_block5_out (Activati  (None, 14, 14, 1024)         0         ['conv4_block5_add[0][0]']    \n",
            " on)                                                                                              \n",
            "                                                                                                  \n",
            " conv4_block6_1_conv (Conv2  (None, 14, 14, 256)          262400    ['conv4_block5_out[0][0]']    \n",
            " D)                                                                                               \n",
            "                                                                                                  \n",
            " conv4_block6_1_bn (BatchNo  (None, 14, 14, 256)          1024      ['conv4_block6_1_conv[0][0]'] \n",
            " rmalization)                                                                                     \n",
            "                                                                                                  \n",
            " conv4_block6_1_relu (Activ  (None, 14, 14, 256)          0         ['conv4_block6_1_bn[0][0]']   \n",
            " ation)                                                                                           \n",
            "                                                                                                  \n",
            " conv4_block6_2_conv (Conv2  (None, 14, 14, 256)          590080    ['conv4_block6_1_relu[0][0]'] \n",
            " D)                                                                                               \n",
            "                                                                                                  \n",
            " conv4_block6_2_bn (BatchNo  (None, 14, 14, 256)          1024      ['conv4_block6_2_conv[0][0]'] \n",
            " rmalization)                                                                                     \n",
            "                                                                                                  \n",
            " conv4_block6_2_relu (Activ  (None, 14, 14, 256)          0         ['conv4_block6_2_bn[0][0]']   \n",
            " ation)                                                                                           \n",
            "                                                                                                  \n",
            " conv4_block6_3_conv (Conv2  (None, 14, 14, 1024)         263168    ['conv4_block6_2_relu[0][0]'] \n",
            " D)                                                                                               \n",
            "                                                                                                  \n",
            " conv4_block6_3_bn (BatchNo  (None, 14, 14, 1024)         4096      ['conv4_block6_3_conv[0][0]'] \n",
            " rmalization)                                                                                     \n",
            "                                                                                                  \n",
            " conv4_block6_add (Add)      (None, 14, 14, 1024)         0         ['conv4_block5_out[0][0]',    \n",
            "                                                                     'conv4_block6_3_bn[0][0]']   \n",
            "                                                                                                  \n",
            " conv4_block6_out (Activati  (None, 14, 14, 1024)         0         ['conv4_block6_add[0][0]']    \n",
            " on)                                                                                              \n",
            "                                                                                                  \n",
            " conv5_block1_1_conv (Conv2  (None, 7, 7, 512)            524800    ['conv4_block6_out[0][0]']    \n",
            " D)                                                                                               \n",
            "                                                                                                  \n",
            " conv5_block1_1_bn (BatchNo  (None, 7, 7, 512)            2048      ['conv5_block1_1_conv[0][0]'] \n",
            " rmalization)                                                                                     \n",
            "                                                                                                  \n",
            " conv5_block1_1_relu (Activ  (None, 7, 7, 512)            0         ['conv5_block1_1_bn[0][0]']   \n",
            " ation)                                                                                           \n",
            "                                                                                                  \n",
            " conv5_block1_2_conv (Conv2  (None, 7, 7, 512)            2359808   ['conv5_block1_1_relu[0][0]'] \n",
            " D)                                                                                               \n",
            "                                                                                                  \n",
            " conv5_block1_2_bn (BatchNo  (None, 7, 7, 512)            2048      ['conv5_block1_2_conv[0][0]'] \n",
            " rmalization)                                                                                     \n",
            "                                                                                                  \n",
            " conv5_block1_2_relu (Activ  (None, 7, 7, 512)            0         ['conv5_block1_2_bn[0][0]']   \n",
            " ation)                                                                                           \n",
            "                                                                                                  \n",
            " conv5_block1_0_conv (Conv2  (None, 7, 7, 2048)           2099200   ['conv4_block6_out[0][0]']    \n",
            " D)                                                                                               \n",
            "                                                                                                  \n",
            " conv5_block1_3_conv (Conv2  (None, 7, 7, 2048)           1050624   ['conv5_block1_2_relu[0][0]'] \n",
            " D)                                                                                               \n",
            "                                                                                                  \n",
            " conv5_block1_0_bn (BatchNo  (None, 7, 7, 2048)           8192      ['conv5_block1_0_conv[0][0]'] \n",
            " rmalization)                                                                                     \n",
            "                                                                                                  \n",
            " conv5_block1_3_bn (BatchNo  (None, 7, 7, 2048)           8192      ['conv5_block1_3_conv[0][0]'] \n",
            " rmalization)                                                                                     \n",
            "                                                                                                  \n",
            " conv5_block1_add (Add)      (None, 7, 7, 2048)           0         ['conv5_block1_0_bn[0][0]',   \n",
            "                                                                     'conv5_block1_3_bn[0][0]']   \n",
            "                                                                                                  \n",
            " conv5_block1_out (Activati  (None, 7, 7, 2048)           0         ['conv5_block1_add[0][0]']    \n",
            " on)                                                                                              \n",
            "                                                                                                  \n",
            " conv5_block2_1_conv (Conv2  (None, 7, 7, 512)            1049088   ['conv5_block1_out[0][0]']    \n",
            " D)                                                                                               \n",
            "                                                                                                  \n",
            " conv5_block2_1_bn (BatchNo  (None, 7, 7, 512)            2048      ['conv5_block2_1_conv[0][0]'] \n",
            " rmalization)                                                                                     \n",
            "                                                                                                  \n",
            " conv5_block2_1_relu (Activ  (None, 7, 7, 512)            0         ['conv5_block2_1_bn[0][0]']   \n",
            " ation)                                                                                           \n",
            "                                                                                                  \n",
            " conv5_block2_2_conv (Conv2  (None, 7, 7, 512)            2359808   ['conv5_block2_1_relu[0][0]'] \n",
            " D)                                                                                               \n",
            "                                                                                                  \n",
            " conv5_block2_2_bn (BatchNo  (None, 7, 7, 512)            2048      ['conv5_block2_2_conv[0][0]'] \n",
            " rmalization)                                                                                     \n",
            "                                                                                                  \n",
            " conv5_block2_2_relu (Activ  (None, 7, 7, 512)            0         ['conv5_block2_2_bn[0][0]']   \n",
            " ation)                                                                                           \n",
            "                                                                                                  \n",
            " conv5_block2_3_conv (Conv2  (None, 7, 7, 2048)           1050624   ['conv5_block2_2_relu[0][0]'] \n",
            " D)                                                                                               \n",
            "                                                                                                  \n",
            " conv5_block2_3_bn (BatchNo  (None, 7, 7, 2048)           8192      ['conv5_block2_3_conv[0][0]'] \n",
            " rmalization)                                                                                     \n",
            "                                                                                                  \n",
            " conv5_block2_add (Add)      (None, 7, 7, 2048)           0         ['conv5_block1_out[0][0]',    \n",
            "                                                                     'conv5_block2_3_bn[0][0]']   \n",
            "                                                                                                  \n",
            " conv5_block2_out (Activati  (None, 7, 7, 2048)           0         ['conv5_block2_add[0][0]']    \n",
            " on)                                                                                              \n",
            "                                                                                                  \n",
            " conv5_block3_1_conv (Conv2  (None, 7, 7, 512)            1049088   ['conv5_block2_out[0][0]']    \n",
            " D)                                                                                               \n",
            "                                                                                                  \n",
            " conv5_block3_1_bn (BatchNo  (None, 7, 7, 512)            2048      ['conv5_block3_1_conv[0][0]'] \n",
            " rmalization)                                                                                     \n",
            "                                                                                                  \n",
            " conv5_block3_1_relu (Activ  (None, 7, 7, 512)            0         ['conv5_block3_1_bn[0][0]']   \n",
            " ation)                                                                                           \n",
            "                                                                                                  \n",
            " conv5_block3_2_conv (Conv2  (None, 7, 7, 512)            2359808   ['conv5_block3_1_relu[0][0]'] \n",
            " D)                                                                                               \n",
            "                                                                                                  \n",
            " conv5_block3_2_bn (BatchNo  (None, 7, 7, 512)            2048      ['conv5_block3_2_conv[0][0]'] \n",
            " rmalization)                                                                                     \n",
            "                                                                                                  \n",
            " conv5_block3_2_relu (Activ  (None, 7, 7, 512)            0         ['conv5_block3_2_bn[0][0]']   \n",
            " ation)                                                                                           \n",
            "                                                                                                  \n",
            " conv5_block3_3_conv (Conv2  (None, 7, 7, 2048)           1050624   ['conv5_block3_2_relu[0][0]'] \n",
            " D)                                                                                               \n",
            "                                                                                                  \n",
            " conv5_block3_3_bn (BatchNo  (None, 7, 7, 2048)           8192      ['conv5_block3_3_conv[0][0]'] \n",
            " rmalization)                                                                                     \n",
            "                                                                                                  \n",
            " conv5_block3_add (Add)      (None, 7, 7, 2048)           0         ['conv5_block2_out[0][0]',    \n",
            "                                                                     'conv5_block3_3_bn[0][0]']   \n",
            "                                                                                                  \n",
            " conv5_block3_out (Activati  (None, 7, 7, 2048)           0         ['conv5_block3_add[0][0]']    \n",
            " on)                                                                                              \n",
            "                                                                                                  \n",
            " avg_pool (GlobalAveragePoo  (None, 2048)                 0         ['conv5_block3_out[0][0]']    \n",
            " ling2D)                                                                                          \n",
            "                                                                                                  \n",
            " predictions (Dense)         (None, 1000)                 2049000   ['avg_pool[0][0]']            \n",
            "                                                                                                  \n",
            "==================================================================================================\n",
            "Total params: 25636712 (97.80 MB)\n",
            "Trainable params: 25583592 (97.59 MB)\n",
            "Non-trainable params: 53120 (207.50 KB)\n",
            "__________________________________________________________________________________________________\n"
          ]
        }
      ],
      "source": [
        "from tensorflow.keras.applications import ResNet50 # ResNet50 is a famous pre-trained model for image classification.\n",
        "\n",
        "resnet = ResNet50(weights='imagenet') # Load the pre-trained model with weights trained on ImageNet.\n",
        "resnet.summary()"
      ]
    },
    {
      "cell_type": "markdown",
      "metadata": {
        "id": "hAsgZqSy07Ls"
      },
      "source": [
        "### TensorFlow hub modules"
      ]
    },
    {
      "cell_type": "code",
      "execution_count": null,
      "metadata": {
        "colab": {
          "base_uri": "https://localhost:8080/"
        },
        "id": "z0YjnzfL41_Y",
        "outputId": "509497c7-5e5b-461b-9a6c-a0b6f0822357"
      },
      "outputs": [
        {
          "name": "stdout",
          "output_type": "stream",
          "text": [
            "Model: \"sequential_20\"\n",
            "_________________________________________________________________\n",
            " Layer (type)                Output Shape              Param #   \n",
            "=================================================================\n",
            " keras_layer (KerasLayer)    (None, 1001)              1343049   \n",
            "                                                                 \n",
            "=================================================================\n",
            "Total params: 1343049 (5.12 MB)\n",
            "Trainable params: 0 (0.00 Byte)\n",
            "Non-trainable params: 1343049 (5.12 MB)\n",
            "_________________________________________________________________\n"
          ]
        }
      ],
      "source": [
        "import tensorflow_hub as hub\n",
        "# Specify the URL of the TFHub module we want to use.\n",
        "module_url = \"https://tfhub.dev/google/imagenet/mobilenet_v1_050_160/classification/4\"\n",
        "# Load the model.\n",
        "model = Sequential([hub.KerasLayer(module_url)])\n",
        "# Define the input shape.\n",
        "model.build(input_shape=[None, 160, 160, 3])\n",
        "model.summary()"
      ]
    }
  ],
  "metadata": {
    "colab": {
      "provenance": [],
      "toc_visible": true
    },
    "kernelspec": {
      "display_name": "Python 3",
      "name": "python3"
    },
    "language_info": {
      "name": "python"
    }
  },
  "nbformat": 4,
  "nbformat_minor": 0
}
